{
  "cells": [
    {
      "cell_type": "markdown",
      "metadata": {
        "id": "Ffq6A2-ifzAA"
      },
      "source": [
        "# Интеллектуальный анализ данных – весна 2024\n",
        "# Домашнее задание 6: классификация текстов"
      ]
    },
    {
      "cell_type": "markdown",
      "metadata": {
        "id": "itRtFtrOf0_b"
      },
      "source": [
        "В этом домашнем задании вам предстоит построить классификатор текстов.\n",
        "\n",
        "Будем предсказывать эмоциональную окраску твиттов о коронавирусе.\n",
        "\n"
      ]
    },
    {
      "cell_type": "code",
      "execution_count": 21,
      "metadata": {
        "id": "tNGRVO7_g9mz"
      },
      "outputs": [],
      "source": [
        "import numpy as np\n",
        "import pandas as pd\n",
        "from typing import  List\n",
        "import matplotlib.pyplot as plt\n",
        "import seaborn as sns\n",
        "from string import punctuation"
      ]
    },
    {
      "cell_type": "code",
      "source": [
        "!wget https://github.com/hse-ds/iad-intro-ds/blob/master/2024/homeworks/hw06_texts/tweets_coronavirus.csv"
      ],
      "metadata": {
        "id": "X_it3NVL62_n",
        "outputId": "03113ec9-9fe6-43ff-baf6-5e26360d0e7f",
        "colab": {
          "base_uri": "https://localhost:8080/"
        }
      },
      "execution_count": 7,
      "outputs": [
        {
          "output_type": "stream",
          "name": "stdout",
          "text": [
            "--2024-05-13 17:07:54--  https://github.com/hse-ds/iad-intro-ds/blob/master/2024/homeworks/hw06_texts/tweets_coronavirus.csv\n",
            "Resolving github.com (github.com)... 140.82.116.4\n",
            "Connecting to github.com (github.com)|140.82.116.4|:443... connected.\n",
            "HTTP request sent, awaiting response... 200 OK\n",
            "Length: unspecified [text/html]\n",
            "Saving to: ‘tweets_coronavirus.csv’\n",
            "\n",
            "\rtweets_coronavirus.     [<=>                 ]       0  --.-KB/s               \rtweets_coronavirus.     [ <=>                ] 261.76K  --.-KB/s    in 0.05s   \n",
            "\n",
            "2024-05-13 17:07:54 (4.70 MB/s) - ‘tweets_coronavirus.csv’ saved [268044]\n",
            "\n"
          ]
        }
      ]
    },
    {
      "cell_type": "code",
      "execution_count": 22,
      "metadata": {
        "id": "zOy8iHJQg_Ss",
        "colab": {
          "base_uri": "https://localhost:8080/",
          "height": 175
        },
        "outputId": "431f67ea-ee85-454f-b1be-82ee24b27027"
      },
      "outputs": [
        {
          "output_type": "execute_result",
          "data": {
            "text/plain": [
              "       UserName  ScreenName           Location     TweetAt  \\\n",
              "32299     43535       88487       New York, NY  13-04-2020   \n",
              "8647      14305       59257  toronto, montreal  20-03-2020   \n",
              "16714     24151       69103                NaN  25-03-2020   \n",
              "7558      12973       57925      East, England  20-03-2020   \n",
              "\n",
              "                                           OriginalTweet           Sentiment  \n",
              "32299  Bank of America doesnÃÂt expect the outlook ...            Positive  \n",
              "8647   I spoke with Strategy about the potential long...            Negative  \n",
              "16714  1 For millions the most convenient place to ge...  Extremely Negative  \n",
              "7558   I m a big builder chap who worries about nothi...  Extremely Negative  "
            ],
            "text/html": [
              "\n",
              "  <div id=\"df-beada8f5-9903-4bcf-9d52-1c649096cd9a\" class=\"colab-df-container\">\n",
              "    <div>\n",
              "<style scoped>\n",
              "    .dataframe tbody tr th:only-of-type {\n",
              "        vertical-align: middle;\n",
              "    }\n",
              "\n",
              "    .dataframe tbody tr th {\n",
              "        vertical-align: top;\n",
              "    }\n",
              "\n",
              "    .dataframe thead th {\n",
              "        text-align: right;\n",
              "    }\n",
              "</style>\n",
              "<table border=\"1\" class=\"dataframe\">\n",
              "  <thead>\n",
              "    <tr style=\"text-align: right;\">\n",
              "      <th></th>\n",
              "      <th>UserName</th>\n",
              "      <th>ScreenName</th>\n",
              "      <th>Location</th>\n",
              "      <th>TweetAt</th>\n",
              "      <th>OriginalTweet</th>\n",
              "      <th>Sentiment</th>\n",
              "    </tr>\n",
              "  </thead>\n",
              "  <tbody>\n",
              "    <tr>\n",
              "      <th>32299</th>\n",
              "      <td>43535</td>\n",
              "      <td>88487</td>\n",
              "      <td>New York, NY</td>\n",
              "      <td>13-04-2020</td>\n",
              "      <td>Bank of America doesnÃÂt expect the outlook ...</td>\n",
              "      <td>Positive</td>\n",
              "    </tr>\n",
              "    <tr>\n",
              "      <th>8647</th>\n",
              "      <td>14305</td>\n",
              "      <td>59257</td>\n",
              "      <td>toronto, montreal</td>\n",
              "      <td>20-03-2020</td>\n",
              "      <td>I spoke with Strategy about the potential long...</td>\n",
              "      <td>Negative</td>\n",
              "    </tr>\n",
              "    <tr>\n",
              "      <th>16714</th>\n",
              "      <td>24151</td>\n",
              "      <td>69103</td>\n",
              "      <td>NaN</td>\n",
              "      <td>25-03-2020</td>\n",
              "      <td>1 For millions the most convenient place to ge...</td>\n",
              "      <td>Extremely Negative</td>\n",
              "    </tr>\n",
              "    <tr>\n",
              "      <th>7558</th>\n",
              "      <td>12973</td>\n",
              "      <td>57925</td>\n",
              "      <td>East, England</td>\n",
              "      <td>20-03-2020</td>\n",
              "      <td>I m a big builder chap who worries about nothi...</td>\n",
              "      <td>Extremely Negative</td>\n",
              "    </tr>\n",
              "  </tbody>\n",
              "</table>\n",
              "</div>\n",
              "    <div class=\"colab-df-buttons\">\n",
              "\n",
              "  <div class=\"colab-df-container\">\n",
              "    <button class=\"colab-df-convert\" onclick=\"convertToInteractive('df-beada8f5-9903-4bcf-9d52-1c649096cd9a')\"\n",
              "            title=\"Convert this dataframe to an interactive table.\"\n",
              "            style=\"display:none;\">\n",
              "\n",
              "  <svg xmlns=\"http://www.w3.org/2000/svg\" height=\"24px\" viewBox=\"0 -960 960 960\">\n",
              "    <path d=\"M120-120v-720h720v720H120Zm60-500h600v-160H180v160Zm220 220h160v-160H400v160Zm0 220h160v-160H400v160ZM180-400h160v-160H180v160Zm440 0h160v-160H620v160ZM180-180h160v-160H180v160Zm440 0h160v-160H620v160Z\"/>\n",
              "  </svg>\n",
              "    </button>\n",
              "\n",
              "  <style>\n",
              "    .colab-df-container {\n",
              "      display:flex;\n",
              "      gap: 12px;\n",
              "    }\n",
              "\n",
              "    .colab-df-convert {\n",
              "      background-color: #E8F0FE;\n",
              "      border: none;\n",
              "      border-radius: 50%;\n",
              "      cursor: pointer;\n",
              "      display: none;\n",
              "      fill: #1967D2;\n",
              "      height: 32px;\n",
              "      padding: 0 0 0 0;\n",
              "      width: 32px;\n",
              "    }\n",
              "\n",
              "    .colab-df-convert:hover {\n",
              "      background-color: #E2EBFA;\n",
              "      box-shadow: 0px 1px 2px rgba(60, 64, 67, 0.3), 0px 1px 3px 1px rgba(60, 64, 67, 0.15);\n",
              "      fill: #174EA6;\n",
              "    }\n",
              "\n",
              "    .colab-df-buttons div {\n",
              "      margin-bottom: 4px;\n",
              "    }\n",
              "\n",
              "    [theme=dark] .colab-df-convert {\n",
              "      background-color: #3B4455;\n",
              "      fill: #D2E3FC;\n",
              "    }\n",
              "\n",
              "    [theme=dark] .colab-df-convert:hover {\n",
              "      background-color: #434B5C;\n",
              "      box-shadow: 0px 1px 3px 1px rgba(0, 0, 0, 0.15);\n",
              "      filter: drop-shadow(0px 1px 2px rgba(0, 0, 0, 0.3));\n",
              "      fill: #FFFFFF;\n",
              "    }\n",
              "  </style>\n",
              "\n",
              "    <script>\n",
              "      const buttonEl =\n",
              "        document.querySelector('#df-beada8f5-9903-4bcf-9d52-1c649096cd9a button.colab-df-convert');\n",
              "      buttonEl.style.display =\n",
              "        google.colab.kernel.accessAllowed ? 'block' : 'none';\n",
              "\n",
              "      async function convertToInteractive(key) {\n",
              "        const element = document.querySelector('#df-beada8f5-9903-4bcf-9d52-1c649096cd9a');\n",
              "        const dataTable =\n",
              "          await google.colab.kernel.invokeFunction('convertToInteractive',\n",
              "                                                    [key], {});\n",
              "        if (!dataTable) return;\n",
              "\n",
              "        const docLinkHtml = 'Like what you see? Visit the ' +\n",
              "          '<a target=\"_blank\" href=https://colab.research.google.com/notebooks/data_table.ipynb>data table notebook</a>'\n",
              "          + ' to learn more about interactive tables.';\n",
              "        element.innerHTML = '';\n",
              "        dataTable['output_type'] = 'display_data';\n",
              "        await google.colab.output.renderOutput(dataTable, element);\n",
              "        const docLink = document.createElement('div');\n",
              "        docLink.innerHTML = docLinkHtml;\n",
              "        element.appendChild(docLink);\n",
              "      }\n",
              "    </script>\n",
              "  </div>\n",
              "\n",
              "\n",
              "<div id=\"df-7324cbab-6008-42be-ab9a-31cdb4594830\">\n",
              "  <button class=\"colab-df-quickchart\" onclick=\"quickchart('df-7324cbab-6008-42be-ab9a-31cdb4594830')\"\n",
              "            title=\"Suggest charts\"\n",
              "            style=\"display:none;\">\n",
              "\n",
              "<svg xmlns=\"http://www.w3.org/2000/svg\" height=\"24px\"viewBox=\"0 0 24 24\"\n",
              "     width=\"24px\">\n",
              "    <g>\n",
              "        <path d=\"M19 3H5c-1.1 0-2 .9-2 2v14c0 1.1.9 2 2 2h14c1.1 0 2-.9 2-2V5c0-1.1-.9-2-2-2zM9 17H7v-7h2v7zm4 0h-2V7h2v10zm4 0h-2v-4h2v4z\"/>\n",
              "    </g>\n",
              "</svg>\n",
              "  </button>\n",
              "\n",
              "<style>\n",
              "  .colab-df-quickchart {\n",
              "      --bg-color: #E8F0FE;\n",
              "      --fill-color: #1967D2;\n",
              "      --hover-bg-color: #E2EBFA;\n",
              "      --hover-fill-color: #174EA6;\n",
              "      --disabled-fill-color: #AAA;\n",
              "      --disabled-bg-color: #DDD;\n",
              "  }\n",
              "\n",
              "  [theme=dark] .colab-df-quickchart {\n",
              "      --bg-color: #3B4455;\n",
              "      --fill-color: #D2E3FC;\n",
              "      --hover-bg-color: #434B5C;\n",
              "      --hover-fill-color: #FFFFFF;\n",
              "      --disabled-bg-color: #3B4455;\n",
              "      --disabled-fill-color: #666;\n",
              "  }\n",
              "\n",
              "  .colab-df-quickchart {\n",
              "    background-color: var(--bg-color);\n",
              "    border: none;\n",
              "    border-radius: 50%;\n",
              "    cursor: pointer;\n",
              "    display: none;\n",
              "    fill: var(--fill-color);\n",
              "    height: 32px;\n",
              "    padding: 0;\n",
              "    width: 32px;\n",
              "  }\n",
              "\n",
              "  .colab-df-quickchart:hover {\n",
              "    background-color: var(--hover-bg-color);\n",
              "    box-shadow: 0 1px 2px rgba(60, 64, 67, 0.3), 0 1px 3px 1px rgba(60, 64, 67, 0.15);\n",
              "    fill: var(--button-hover-fill-color);\n",
              "  }\n",
              "\n",
              "  .colab-df-quickchart-complete:disabled,\n",
              "  .colab-df-quickchart-complete:disabled:hover {\n",
              "    background-color: var(--disabled-bg-color);\n",
              "    fill: var(--disabled-fill-color);\n",
              "    box-shadow: none;\n",
              "  }\n",
              "\n",
              "  .colab-df-spinner {\n",
              "    border: 2px solid var(--fill-color);\n",
              "    border-color: transparent;\n",
              "    border-bottom-color: var(--fill-color);\n",
              "    animation:\n",
              "      spin 1s steps(1) infinite;\n",
              "  }\n",
              "\n",
              "  @keyframes spin {\n",
              "    0% {\n",
              "      border-color: transparent;\n",
              "      border-bottom-color: var(--fill-color);\n",
              "      border-left-color: var(--fill-color);\n",
              "    }\n",
              "    20% {\n",
              "      border-color: transparent;\n",
              "      border-left-color: var(--fill-color);\n",
              "      border-top-color: var(--fill-color);\n",
              "    }\n",
              "    30% {\n",
              "      border-color: transparent;\n",
              "      border-left-color: var(--fill-color);\n",
              "      border-top-color: var(--fill-color);\n",
              "      border-right-color: var(--fill-color);\n",
              "    }\n",
              "    40% {\n",
              "      border-color: transparent;\n",
              "      border-right-color: var(--fill-color);\n",
              "      border-top-color: var(--fill-color);\n",
              "    }\n",
              "    60% {\n",
              "      border-color: transparent;\n",
              "      border-right-color: var(--fill-color);\n",
              "    }\n",
              "    80% {\n",
              "      border-color: transparent;\n",
              "      border-right-color: var(--fill-color);\n",
              "      border-bottom-color: var(--fill-color);\n",
              "    }\n",
              "    90% {\n",
              "      border-color: transparent;\n",
              "      border-bottom-color: var(--fill-color);\n",
              "    }\n",
              "  }\n",
              "</style>\n",
              "\n",
              "  <script>\n",
              "    async function quickchart(key) {\n",
              "      const quickchartButtonEl =\n",
              "        document.querySelector('#' + key + ' button');\n",
              "      quickchartButtonEl.disabled = true;  // To prevent multiple clicks.\n",
              "      quickchartButtonEl.classList.add('colab-df-spinner');\n",
              "      try {\n",
              "        const charts = await google.colab.kernel.invokeFunction(\n",
              "            'suggestCharts', [key], {});\n",
              "      } catch (error) {\n",
              "        console.error('Error during call to suggestCharts:', error);\n",
              "      }\n",
              "      quickchartButtonEl.classList.remove('colab-df-spinner');\n",
              "      quickchartButtonEl.classList.add('colab-df-quickchart-complete');\n",
              "    }\n",
              "    (() => {\n",
              "      let quickchartButtonEl =\n",
              "        document.querySelector('#df-7324cbab-6008-42be-ab9a-31cdb4594830 button');\n",
              "      quickchartButtonEl.style.display =\n",
              "        google.colab.kernel.accessAllowed ? 'block' : 'none';\n",
              "    })();\n",
              "  </script>\n",
              "</div>\n",
              "    </div>\n",
              "  </div>\n"
            ],
            "application/vnd.google.colaboratory.intrinsic+json": {
              "type": "dataframe",
              "repr_error": "0"
            }
          },
          "metadata": {},
          "execution_count": 22
        }
      ],
      "source": [
        "df = pd.read_csv('/content/tweets_coronavirus.csv', encoding='latin-1')\n",
        "df.sample(4)"
      ]
    },
    {
      "cell_type": "markdown",
      "metadata": {
        "id": "m2OiDog9ZBlS"
      },
      "source": [
        "Для каждого твитта указано:\n",
        "\n",
        "\n",
        "*   UserName - имя пользователя, заменено на целое число для анонимности\n",
        "*   ScreenName - отображающееся имя пользователя, заменено на целое число для анонимности\n",
        "*   Location - местоположение\n",
        "*   TweetAt - дата создания твитта\n",
        "*   OriginalTweet - текст твитта\n",
        "*   Sentiment - эмоциональная окраска твитта (целевая переменная)\n",
        "\n"
      ]
    },
    {
      "cell_type": "markdown",
      "metadata": {
        "id": "pZTMseDkhTC7"
      },
      "source": [
        "## Задание 1 Подготовка (0.5 балла)"
      ]
    },
    {
      "cell_type": "markdown",
      "metadata": {
        "id": "Xx2-odn9hdAW"
      },
      "source": [
        "Целевая переменная находится в колонке `Sentiment`.  Преобразуйте ее таким образом, чтобы она стала бинарной: 1 - если у твитта положительная эмоциональная окраска и 0 - если отрицательная."
      ]
    },
    {
      "cell_type": "code",
      "source": [
        "df['Sentiment'].unique()"
      ],
      "metadata": {
        "colab": {
          "base_uri": "https://localhost:8080/"
        },
        "id": "92b_G1fsezo-",
        "outputId": "a0e95a79-bd29-4742-cbdb-faa56a38cbc2"
      },
      "execution_count": 23,
      "outputs": [
        {
          "output_type": "execute_result",
          "data": {
            "text/plain": [
              "array(['Positive', 'Extremely Negative', 'Negative', 'Extremely Positive'],\n",
              "      dtype=object)"
            ]
          },
          "metadata": {},
          "execution_count": 23
        }
      ]
    },
    {
      "cell_type": "code",
      "execution_count": 24,
      "metadata": {
        "id": "ZaQKQ1zEjP15"
      },
      "outputs": [],
      "source": [
        "df['Sentiment'] = df['Sentiment'].replace(to_replace = ['Negative', 'Extremely Negative'], value = 0)\n",
        "df['Sentiment'] = df['Sentiment'].replace(to_replace = ['Positive', 'Extremely Positive'], value = 1)"
      ]
    },
    {
      "cell_type": "code",
      "source": [
        "df['Sentiment'].unique()"
      ],
      "metadata": {
        "colab": {
          "base_uri": "https://localhost:8080/"
        },
        "id": "zsHXSSNWfroA",
        "outputId": "ccf86053-b638-4042-bccf-44e0cee8cc00"
      },
      "execution_count": 25,
      "outputs": [
        {
          "output_type": "execute_result",
          "data": {
            "text/plain": [
              "array([1, 0])"
            ]
          },
          "metadata": {},
          "execution_count": 25
        }
      ]
    },
    {
      "cell_type": "markdown",
      "metadata": {
        "id": "pGq1FxJ-kBo5"
      },
      "source": [
        "Сбалансированы ли классы?"
      ]
    },
    {
      "cell_type": "code",
      "execution_count": 26,
      "metadata": {
        "id": "a7gdNtxckK5V",
        "colab": {
          "base_uri": "https://localhost:8080/"
        },
        "outputId": "576ecd04-d9de-4f65-f640-036d09fd7dab"
      },
      "outputs": [
        {
          "output_type": "stream",
          "name": "stdout",
          "text": [
            "Разница классов в столбце окраса твита составляет: 14 %\n"
          ]
        }
      ],
      "source": [
        "balance_sentiment = int(100 - (100 * min(df['Sentiment'].value_counts())) / max(df['Sentiment'].value_counts()))\n",
        "print(f'Разница классов в столбце окраса твита составляет: {balance_sentiment} %')"
      ]
    },
    {
      "cell_type": "markdown",
      "metadata": {
        "id": "Ng8BCelMkWb0"
      },
      "source": [
        "**Ответ:** Да, классы положительных/отрицательных твитов достаточно хорошо сбалансированны, в качестве наглядного примера приведу визуализацию количества положительных/отрицательных упоминаний"
      ]
    },
    {
      "cell_type": "code",
      "source": [
        "values_sentiment = df['Sentiment'].value_counts().sort_index()\n",
        "\n",
        "plt.bar(values_sentiment.index, values_sentiment.values)\n",
        "\n",
        "plt.xlabel('Окрас твита')\n",
        "plt.ylabel('Количество')\n",
        "plt.show()"
      ],
      "metadata": {
        "colab": {
          "base_uri": "https://localhost:8080/",
          "height": 449
        },
        "id": "eM5dFy3khhSJ",
        "outputId": "74431101-3f02-4769-f73f-4d21f422d472"
      },
      "execution_count": 14,
      "outputs": [
        {
          "output_type": "display_data",
          "data": {
            "text/plain": [
              "<Figure size 640x480 with 1 Axes>"
            ],
            "image/png": "[encoded data removed]"
          },
          "metadata": {}
        }
      ]
    },
    {
      "cell_type": "markdown",
      "metadata": {
        "id": "qmSIBSsLk5Zz"
      },
      "source": [
        "Выведете на экран информацию о пропусках в данных. Если пропуски присутствуют заполните их строкой 'Unknown'."
      ]
    },
    {
      "cell_type": "code",
      "execution_count": 15,
      "metadata": {
        "id": "UhUVRkR5kxa7",
        "colab": {
          "base_uri": "https://localhost:8080/"
        },
        "outputId": "74b2fd07-7acd-4a27-f21e-5a70e7d406a7"
      },
      "outputs": [
        {
          "output_type": "stream",
          "name": "stdout",
          "text": [
            "UserName         0.00000\n",
            "ScreenName       0.00000\n",
            "Location         0.21077\n",
            "TweetAt          0.00000\n",
            "OriginalTweet    0.00000\n",
            "Sentiment        0.00000\n",
            "dtype: float64\n",
            "7049\n"
          ]
        }
      ],
      "source": [
        "print(df.isna().mean())\n",
        "print(df.isna().sum().sum())"
      ]
    },
    {
      "cell_type": "markdown",
      "source": [
        "В данных есть пропуски, конкретно в столбце \"Location\", где находятся данные о местоположении пользователя, заполним их строкой \"Unknown\""
      ],
      "metadata": {
        "id": "d1ZPF0JbkDiX"
      }
    },
    {
      "cell_type": "code",
      "source": [
        "df = df.fillna(\"Unknown\")"
      ],
      "metadata": {
        "id": "xey0DwIXkeOB"
      },
      "execution_count": 27,
      "outputs": []
    },
    {
      "cell_type": "code",
      "source": [
        "df.isna().mean()"
      ],
      "metadata": {
        "colab": {
          "base_uri": "https://localhost:8080/"
        },
        "id": "c9tBI9p9ogIT",
        "outputId": "66140fcf-edd3-4c9a-f488-989e4ecf76df"
      },
      "execution_count": 28,
      "outputs": [
        {
          "output_type": "execute_result",
          "data": {
            "text/plain": [
              "UserName         0.0\n",
              "ScreenName       0.0\n",
              "Location         0.0\n",
              "TweetAt          0.0\n",
              "OriginalTweet    0.0\n",
              "Sentiment        0.0\n",
              "dtype: float64"
            ]
          },
          "metadata": {},
          "execution_count": 28
        }
      ]
    },
    {
      "cell_type": "markdown",
      "metadata": {
        "id": "1tzt27tfjUpq"
      },
      "source": [
        "Разделите данные на обучающие и тестовые в соотношении 7 : 3 и `random_state=0`"
      ]
    },
    {
      "cell_type": "code",
      "source": [
        "from sklearn.model_selection import train_test_split\n",
        "\n",
        "train, test = train_test_split(df, test_size = 0.3, random_state = 0)"
      ],
      "metadata": {
        "id": "bNLdXnXeObV7"
      },
      "execution_count": 29,
      "outputs": []
    },
    {
      "cell_type": "markdown",
      "metadata": {
        "id": "J9RrPUsJlL60"
      },
      "source": [
        "## Задание 2 Токенизация (3 балла)"
      ]
    },
    {
      "cell_type": "markdown",
      "metadata": {
        "id": "2Dz_b7Xopc_R"
      },
      "source": [
        "Постройте словарь на основе обучающей выборки и посчитайте количество встреч каждого токена с использованием самой простой токенизации - деления текстов по пробельным символам и приведение токенов в нижний регистр"
      ]
    },
    {
      "cell_type": "code",
      "execution_count": 36,
      "metadata": {
        "id": "SFr67WOJphny",
        "colab": {
          "base_uri": "https://localhost:8080/"
        },
        "outputId": "4f649645-ec95-402c-d66c-e372ed26df78"
      },
      "outputs": [
        {
          "output_type": "stream",
          "name": "stderr",
          "text": [
            "[nltk_data] Downloading package punkt to /root/nltk_data...\n",
            "[nltk_data]   Package punkt is already up-to-date!\n"
          ]
        },
        {
          "output_type": "execute_result",
          "data": {
            "text/plain": [
              "True"
            ]
          },
          "metadata": {},
          "execution_count": 36
        }
      ],
      "source": [
        "from nltk.tokenize import word_tokenize\n",
        "import nltk\n",
        "nltk.download('punkt')"
      ]
    },
    {
      "cell_type": "code",
      "source": [
        "string = ' '.join(train['OriginalTweet'])"
      ],
      "metadata": {
        "id": "PLgKuZGESGz8"
      },
      "execution_count": 37,
      "outputs": []
    },
    {
      "cell_type": "code",
      "source": [
        "string = string.lower()"
      ],
      "metadata": {
        "id": "QRiKgseki2T1"
      },
      "execution_count": 38,
      "outputs": []
    },
    {
      "cell_type": "code",
      "source": [
        "dictionary = string.lower()"
      ],
      "metadata": {
        "id": "Iwp2FgiKUhqi"
      },
      "execution_count": 39,
      "outputs": []
    },
    {
      "cell_type": "code",
      "source": [
        "dictionary = dictionary.split()"
      ],
      "metadata": {
        "id": "3CyPV9KQSbS-"
      },
      "execution_count": 40,
      "outputs": []
    },
    {
      "cell_type": "code",
      "source": [
        "dictionary"
      ],
      "metadata": {
        "colab": {
          "base_uri": "https://localhost:8080/"
        },
        "id": "tU99Kp96SngX",
        "outputId": "180d1d9c-cd25-42a1-cd84-8a098e8ed241"
      },
      "execution_count": 41,
      "outputs": [
        {
          "output_type": "execute_result",
          "data": {
            "text/plain": [
              "['why',\n",
              " 'we',\n",
              " 'still',\n",
              " 'want',\n",
              " 'to',\n",
              " 'buy',\n",
              " 'so',\n",
              " 'much',\n",
              " 'stuff',\n",
              " 'during',\n",
              " 'quarantine',\n",
              " 'https://t.co/1m881cwfuv',\n",
              " '#shopping',\n",
              " '#covid_19',\n",
              " '#online',\n",
              " 'with',\n",
              " 'driving',\n",
              " 'even',\n",
              " 'more',\n",
              " 'usage',\n",
              " 'a',\n",
              " 'strong',\n",
              " 'strategy',\n",
              " 'is',\n",
              " 'critical',\n",
              " 'now',\n",
              " 'more',\n",
              " 'then',\n",
              " 'ever',\n",
              " 'luckily',\n",
              " 'and',\n",
              " 'april',\n",
              " '16',\n",
              " 'webinar',\n",
              " 'will',\n",
              " 'dive',\n",
              " 'into',\n",
              " 'growing',\n",
              " 'app',\n",
              " 'awareness',\n",
              " 'and',\n",
              " 'targeting',\n",
              " 'high',\n",
              " 'lifetime',\n",
              " 'value',\n",
              " 'users',\n",
              " '@canon_india',\n",
              " 'i',\n",
              " 'am',\n",
              " 'very',\n",
              " 'happy..',\n",
              " 'great',\n",
              " 'job',\n",
              " 'by',\n",
              " '@canon_india',\n",
              " '#canonforcommunity',\n",
              " 'https://t.co/z0intks34x',\n",
              " 'the',\n",
              " 'u.s',\n",
              " 'national',\n",
              " 'debt',\n",
              " 'will',\n",
              " 'likely',\n",
              " 'exceed',\n",
              " '$30',\n",
              " 'trillion',\n",
              " 'after',\n",
              " 'the',\n",
              " 'unprecedented',\n",
              " 'borrowing',\n",
              " 'by',\n",
              " 'the',\n",
              " 'trump',\n",
              " 'administration',\n",
              " 'and',\n",
              " 'mnuchinã\\x82â\\x92s',\n",
              " 'treasury',\n",
              " 'during',\n",
              " 'the',\n",
              " '#coronavirus',\n",
              " 'crisis.',\n",
              " 'the',\n",
              " 'federal',\n",
              " 'reserve',\n",
              " 'could',\n",
              " 'be',\n",
              " 'doing',\n",
              " 'much',\n",
              " 'more',\n",
              " 'to',\n",
              " 'cushion',\n",
              " 'the',\n",
              " 'blow.',\n",
              " 'u.s',\n",
              " 'is',\n",
              " 'a',\n",
              " 'consumer',\n",
              " 'led',\n",
              " 'economy',\n",
              " 'on',\n",
              " 'the',\n",
              " 'brink.',\n",
              " 'finally',\n",
              " 'got',\n",
              " 'to',\n",
              " 'the',\n",
              " 'grocery',\n",
              " 'store.',\n",
              " 'honestly,',\n",
              " 'what',\n",
              " 'are',\n",
              " 'you',\n",
              " 'people',\n",
              " 'doing',\n",
              " 'with',\n",
              " 'all',\n",
              " 'the',\n",
              " 'toilet',\n",
              " 'paper?',\n",
              " '#coronavirus',\n",
              " 'https://t.co/jmobv8z0u0',\n",
              " 'friends:',\n",
              " 'catholic',\n",
              " \"university's\",\n",
              " 'food',\n",
              " 'service',\n",
              " 'workers',\n",
              " 'have',\n",
              " 'been',\n",
              " 'laid',\n",
              " 'off',\n",
              " 'without',\n",
              " 'pay.',\n",
              " '(by',\n",
              " 'contrast,',\n",
              " 'georgetown',\n",
              " 'has',\n",
              " 'set',\n",
              " 'an',\n",
              " 'example',\n",
              " 'more',\n",
              " 'consistent',\n",
              " 'with',\n",
              " 'catholic',\n",
              " 'social',\n",
              " 'teaching.)',\n",
              " 'please',\n",
              " 'sign',\n",
              " 'and',\n",
              " 'rt.',\n",
              " '@catholicpres',\n",
              " '@catholicuniv',\n",
              " 'https://t.co/evqby035wf',\n",
              " \"it's\",\n",
              " 'times',\n",
              " 'like',\n",
              " 'these',\n",
              " 'you',\n",
              " 'understand',\n",
              " 'the',\n",
              " 'value',\n",
              " 'of',\n",
              " 'a',\n",
              " 'bidet.',\n",
              " '#europe',\n",
              " '#bidet',\n",
              " '#coronavirus',\n",
              " '#toiletpaper',\n",
              " 'regulatory',\n",
              " 'and',\n",
              " 'litigation',\n",
              " 'risks',\n",
              " 'to',\n",
              " 'consumer',\n",
              " 'financial',\n",
              " 'services',\n",
              " 'providers',\n",
              " 'highlighted',\n",
              " 'in',\n",
              " 'ballard',\n",
              " 'spahr',\n",
              " 'webinar',\n",
              " 'on',\n",
              " 'covid-19',\n",
              " 'crisis',\n",
              " 'fallout',\n",
              " 'https://t.co/riqrhxxeim',\n",
              " 'via',\n",
              " '@@ballardspahrll',\n",
              " '#training',\n",
              " '#aca',\n",
              " 'please',\n",
              " \"don't\",\n",
              " 'be',\n",
              " 'panic',\n",
              " 'buying.',\n",
              " \"i've\",\n",
              " 'struggled',\n",
              " 'to',\n",
              " 'get',\n",
              " 'basics',\n",
              " 'as',\n",
              " 'people',\n",
              " 'are',\n",
              " 'emptying',\n",
              " 'shelves.',\n",
              " 'please',\n",
              " 'be',\n",
              " 'sensible',\n",
              " 'as',\n",
              " 'we',\n",
              " \"aren't\",\n",
              " 'in',\n",
              " 'a',\n",
              " 'food',\n",
              " 'shortage,',\n",
              " 'just',\n",
              " 'shop',\n",
              " 'workers',\n",
              " \"don't\",\n",
              " 'have',\n",
              " 'time',\n",
              " 'to',\n",
              " 'restock',\n",
              " 'the',\n",
              " 'shelves.',\n",
              " 'if',\n",
              " \"we're\",\n",
              " 'sensible,',\n",
              " 'then',\n",
              " 'life',\n",
              " 'will',\n",
              " 'be',\n",
              " 'slightly',\n",
              " 'easier...take',\n",
              " 'care',\n",
              " '#coronacrisis',\n",
              " 'at',\n",
              " 'least',\n",
              " 'essential',\n",
              " 'services',\n",
              " 'will',\n",
              " 'be',\n",
              " 'allowed,',\n",
              " 'so',\n",
              " 'we',\n",
              " 'can',\n",
              " 'go',\n",
              " 'to',\n",
              " 'the',\n",
              " 'grocery',\n",
              " 'store',\n",
              " 'and',\n",
              " 'the',\n",
              " 'bank.',\n",
              " 'itã\\x82â\\x92s',\n",
              " 'ridiculous',\n",
              " 'that',\n",
              " 'i',\n",
              " 'actually',\n",
              " 'have',\n",
              " 'to',\n",
              " 'act',\n",
              " 'like',\n",
              " 'going',\n",
              " 'to',\n",
              " 'those',\n",
              " 'types',\n",
              " 'of',\n",
              " 'places',\n",
              " 'is',\n",
              " 'ã\\x82â\\x93necessaryã\\x82â\\x94',\n",
              " 'if',\n",
              " 'i',\n",
              " 'get',\n",
              " 'stopped',\n",
              " 'by',\n",
              " 'police.',\n",
              " '?',\n",
              " '#covid19',\n",
              " '#coronavirus',\n",
              " '#quarantinelife',\n",
              " 'queues',\n",
              " 'outside',\n",
              " 'a',\n",
              " 'supermarket',\n",
              " 'during',\n",
              " 'times',\n",
              " 'reserved',\n",
              " 'for',\n",
              " 'the',\n",
              " 'elderly.',\n",
              " 'britain,',\n",
              " 'were',\n",
              " 'better',\n",
              " 'than',\n",
              " 'this.',\n",
              " '#covid_19',\n",
              " 'https://t.co/0fmsmlgepm',\n",
              " 'lt.',\n",
              " 'gov.',\n",
              " 'husted:',\n",
              " '\"come',\n",
              " 'on',\n",
              " 'people.',\n",
              " 'we',\n",
              " 'have',\n",
              " 'to',\n",
              " 'be',\n",
              " 'better',\n",
              " 'than',\n",
              " 'that.\"',\n",
              " 'after',\n",
              " 'hearing',\n",
              " 'of',\n",
              " 'a',\n",
              " 'fight',\n",
              " 'over',\n",
              " 'toilet',\n",
              " 'paper',\n",
              " 'in',\n",
              " 'a',\n",
              " 'grocery',\n",
              " 'store',\n",
              " '#covid_19',\n",
              " 'from',\n",
              " 'one',\n",
              " 'american',\n",
              " 'irishman',\n",
              " 'to',\n",
              " 'others',\n",
              " 'out',\n",
              " 'there,',\n",
              " '#happystpatricksday!',\n",
              " 'at',\n",
              " 'least',\n",
              " 'i',\n",
              " 'bought',\n",
              " 'some',\n",
              " 'guiness',\n",
              " 'and',\n",
              " 'corned',\n",
              " 'beef',\n",
              " 'and',\n",
              " 'cabbage',\n",
              " 'at',\n",
              " 'the',\n",
              " 'grocery',\n",
              " 'store',\n",
              " 'the',\n",
              " 'other',\n",
              " 'day',\n",
              " 'since',\n",
              " 'i',\n",
              " 'sadly',\n",
              " 'cannot',\n",
              " 'go',\n",
              " 'to',\n",
              " 'the',\n",
              " 'irish',\n",
              " 'pub',\n",
              " 'as',\n",
              " 'per',\n",
              " 'tradition,',\n",
              " 'thanks',\n",
              " 'to',\n",
              " 'governor',\n",
              " 'pritzker',\n",
              " 'and',\n",
              " 'the',\n",
              " 'damn',\n",
              " '#coronavirus',\n",
              " '@ufcw',\n",
              " 'says',\n",
              " 'at',\n",
              " 'least',\n",
              " '30',\n",
              " 'grocery',\n",
              " 'store',\n",
              " 'workers',\n",
              " 'died',\n",
              " 'from',\n",
              " '#coronavirus.',\n",
              " 'union',\n",
              " 'reps',\n",
              " 'says',\n",
              " 'consumers',\n",
              " 'can',\n",
              " 'help',\n",
              " 'protect',\n",
              " 'workers/the',\n",
              " 'public.',\n",
              " '-',\n",
              " 'wear',\n",
              " 'a',\n",
              " 'mask',\n",
              " 'when',\n",
              " 'grocery',\n",
              " 'shopping',\n",
              " '-',\n",
              " 'touch',\n",
              " 'as',\n",
              " 'few',\n",
              " 'products',\n",
              " 'as',\n",
              " 'possible',\n",
              " '-',\n",
              " 'throw',\n",
              " 'used',\n",
              " 'mask/gloves',\n",
              " 'in',\n",
              " 'the',\n",
              " 'ã\\x82â\\x93major',\n",
              " 'supermarket',\n",
              " 'chains',\n",
              " 'are',\n",
              " 'beginning',\n",
              " 'to',\n",
              " 'report',\n",
              " 'their',\n",
              " 'first',\n",
              " 'coronavirus-related',\n",
              " 'employee',\n",
              " 'deaths,',\n",
              " 'leading',\n",
              " 'to',\n",
              " 'store',\n",
              " 'closures',\n",
              " 'and',\n",
              " 'increasing',\n",
              " 'anxiety',\n",
              " 'among',\n",
              " 'grocery',\n",
              " 'workers',\n",
              " 'as',\n",
              " 'the',\n",
              " 'pandemic',\n",
              " 'intensifies',\n",
              " 'across',\n",
              " 'the',\n",
              " 'countryã\\x82â\\x94',\n",
              " 'https://t.co/18v0pyhwb7',\n",
              " 'my',\n",
              " 'story',\n",
              " 'on',\n",
              " 'another',\n",
              " 'aspect',\n",
              " 'of',\n",
              " 'covid-19:',\n",
              " 'food',\n",
              " 'banks',\n",
              " 'face',\n",
              " 'virus',\n",
              " 'dilemma:',\n",
              " 'more',\n",
              " 'demand,',\n",
              " 'fewer',\n",
              " 'volunteers',\n",
              " 'https://t.co/ls0g86i8pu',\n",
              " 'https://t.co/ofvkejff23',\n",
              " 'walking',\n",
              " 'around',\n",
              " 'the',\n",
              " 'grocery',\n",
              " 'store,',\n",
              " 'wearing',\n",
              " 'a',\n",
              " 'mask',\n",
              " 'was',\n",
              " 'weird.',\n",
              " 'seeing',\n",
              " 'others',\n",
              " 'wearing',\n",
              " 'a',\n",
              " 'mask,',\n",
              " 'shopping',\n",
              " 'as',\n",
              " 'normal.',\n",
              " 'sanitizing',\n",
              " 'everything',\n",
              " 'before',\n",
              " 'putting',\n",
              " 'it',\n",
              " 'away.',\n",
              " 'itã\\x82â\\x92s',\n",
              " 'a',\n",
              " 'weird',\n",
              " 'time.',\n",
              " '#quarantinelife',\n",
              " '#coronavirus',\n",
              " '#azliving',\n",
              " 'https://t.co/xoodgd2ulx',\n",
              " 'one',\n",
              " 'other',\n",
              " 'point',\n",
              " 're',\n",
              " 'stock',\n",
              " 'piling',\n",
              " 'now',\n",
              " 'we',\n",
              " 'all',\n",
              " 'live',\n",
              " 'just',\n",
              " 'in',\n",
              " 'time',\n",
              " 'lifestyles',\n",
              " 'all',\n",
              " 'eat',\n",
              " 'out',\n",
              " 'a',\n",
              " 'lot',\n",
              " 'so',\n",
              " 'don',\n",
              " 't',\n",
              " 'carry',\n",
              " 'lot',\n",
              " 'of',\n",
              " 'stock',\n",
              " 'but',\n",
              " 'says',\n",
              " 'my',\n",
              " '70',\n",
              " 'mother',\n",
              " 'inherited',\n",
              " 'wartime',\n",
              " 'mentality',\n",
              " 'doesn',\n",
              " 't',\n",
              " 'everyone',\n",
              " 'have',\n",
              " '14',\n",
              " 'days',\n",
              " 'worth',\n",
              " 'of',\n",
              " 'food',\n",
              " 'in',\n",
              " 'their',\n",
              " 'larder',\n",
              " '1',\n",
              " '2',\n",
              " 'bay',\n",
              " 'view',\n",
              " 'distillery',\n",
              " 'now',\n",
              " 'bottling',\n",
              " 'hand',\n",
              " 'sanitizer',\n",
              " 'to',\n",
              " 'help',\n",
              " 'area',\n",
              " 'nonprofits',\n",
              " 'https://t.co/ogxu5ojpxh',\n",
              " '#coronavirus',\n",
              " '#covid19',\n",
              " 'https://t.co/8cs3skukmn',\n",
              " '#inspiration&gt;&gt;',\n",
              " '#regram',\n",
              " '#showcasing&gt;&gt;',\n",
              " '#artwork',\n",
              " 'by',\n",
              " '@karencantuq:',\n",
              " 'title:',\n",
              " '\"ready',\n",
              " 'to',\n",
              " 'wipe',\n",
              " 'out',\n",
              " 'coronavirus\"',\n",
              " 'caption:',\n",
              " '\"ps',\n",
              " '-',\n",
              " 'donã\\x82â\\x92t',\n",
              " 'be',\n",
              " 'that',\n",
              " 'people\"',\n",
              " '#coronavirus',\n",
              " '#toiletpaper',\n",
              " '#stayinsideyourhouse',\n",
              " 'follow&gt;&gt;',\n",
              " '@authorship.me',\n",
              " 'on',\n",
              " 'instagram:',\n",
              " 'authorzine&gt;&gt;',\n",
              " 'https://t.co/qo7tzfr0ih',\n",
              " 'https://t.co/yu6kokta74',\n",
              " 'i',\n",
              " 'have',\n",
              " 'spent',\n",
              " 'days',\n",
              " 'trying',\n",
              " 'to',\n",
              " 'book',\n",
              " 'a',\n",
              " 'delivery',\n",
              " 'from',\n",
              " 'any',\n",
              " 'supermarket.',\n",
              " 'there',\n",
              " 'is',\n",
              " 'no',\n",
              " 'availability',\n",
              " '.',\n",
              " 'i',\n",
              " 'have',\n",
              " 'to',\n",
              " 'self',\n",
              " 'isolate',\n",
              " 'for',\n",
              " '12',\n",
              " 'weeks',\n",
              " 'due',\n",
              " 'to',\n",
              " 'being',\n",
              " 'immune',\n",
              " 'supressed.',\n",
              " 'how',\n",
              " 'am',\n",
              " 'i',\n",
              " 'supposed',\n",
              " 'to',\n",
              " 'get',\n",
              " 'food?',\n",
              " 'no',\n",
              " 'wonder',\n",
              " 'people',\n",
              " 'have',\n",
              " 'stockpiled.',\n",
              " 'help!',\n",
              " '#coronacrisisuk',\n",
              " '#stockpilinguk',\n",
              " '#covid_19',\n",
              " '#food',\n",
              " 'complete',\n",
              " 'madness',\n",
              " '@borisjohnson',\n",
              " '@susannareid100',\n",
              " '@hollywills',\n",
              " '@piersmorgan',\n",
              " '@eamonnholmes',\n",
              " '@ruthieel',\n",
              " '@gmb',\n",
              " '@bbcnews',\n",
              " '@dailymailuk',\n",
              " '#londonlockdown',\n",
              " '#uklockdown',\n",
              " '#coronavirus',\n",
              " '#covid-19',\n",
              " 'https://t.co/dexxnx7ox3',\n",
              " '\"forcing',\n",
              " '50',\n",
              " 'governors',\n",
              " 'to',\n",
              " 'compete',\n",
              " 'for',\n",
              " 'lifesaving',\n",
              " 'equipment',\n",
              " 'ã\\x82â\\x97',\n",
              " 'and',\n",
              " 'hospitals',\n",
              " 'to',\n",
              " 'pay',\n",
              " 'exorbitant',\n",
              " 'prices',\n",
              " 'for',\n",
              " 'it',\n",
              " 'ã\\x82â\\x97',\n",
              " 'only',\n",
              " 'makes',\n",
              " 'matters',\n",
              " 'worse.\"',\n",
              " 'bill',\n",
              " 'gates:',\n",
              " 'hereã\\x82â\\x92s',\n",
              " 'how',\n",
              " 'to',\n",
              " 'make',\n",
              " 'up',\n",
              " 'for',\n",
              " 'lost',\n",
              " 'time',\n",
              " 'on',\n",
              " 'covid-19',\n",
              " 'https://t.co/yh3rytrevk',\n",
              " '#mondaymotivation',\n",
              " 'at',\n",
              " 'least',\n",
              " 'iã\\x82â\\x92m',\n",
              " 'privileged',\n",
              " 'enough',\n",
              " 'to',\n",
              " 'drive',\n",
              " 'to',\n",
              " 'all',\n",
              " 'these',\n",
              " 'places.',\n",
              " 'canã\\x82â\\x92t',\n",
              " 'stop',\n",
              " 'thinking',\n",
              " 'about',\n",
              " 'those',\n",
              " 'without',\n",
              " 'easy',\n",
              " 'access',\n",
              " 'to',\n",
              " 'transport',\n",
              " 'or',\n",
              " 'who',\n",
              " 'are',\n",
              " 'less',\n",
              " 'able',\n",
              " 'to',\n",
              " 'travel',\n",
              " 'to',\n",
              " 'multiple',\n",
              " 'shops.',\n",
              " 'please',\n",
              " 'people',\n",
              " 'start',\n",
              " 'thinking',\n",
              " 'of',\n",
              " 'others',\n",
              " 'and',\n",
              " '#stoppanicbuying',\n",
              " '#coronavirus',\n",
              " '2/2',\n",
              " '2/2',\n",
              " 'especially',\n",
              " 'whilst',\n",
              " 'tesco',\n",
              " 'own',\n",
              " 'workers',\n",
              " 'in',\n",
              " 'stores',\n",
              " 'such',\n",
              " 'as',\n",
              " 'leyton',\n",
              " 'and',\n",
              " 'leytonstone',\n",
              " 'are',\n",
              " 'on',\n",
              " 'the',\n",
              " 'frontline,',\n",
              " 'dealing',\n",
              " 'with',\n",
              " 'covid-19,',\n",
              " 'restricted',\n",
              " 'stock',\n",
              " 'and',\n",
              " 'getting',\n",
              " 'food',\n",
              " 'out',\n",
              " 'to',\n",
              " 'vulnerable',\n",
              " 'people',\n",
              " 'in',\n",
              " 'very',\n",
              " 'difficult',\n",
              " 'circumstances.',\n",
              " 'every',\n",
              " 'little',\n",
              " 'helps!',\n",
              " 'indeed!',\n",
              " 'now',\n",
              " 'that',\n",
              " 'people',\n",
              " 'in',\n",
              " 'my',\n",
              " 'area',\n",
              " 'are',\n",
              " 'no',\n",
              " 'longer',\n",
              " 'having',\n",
              " 'cocktail',\n",
              " 'parties,',\n",
              " 'those',\n",
              " 'of',\n",
              " 'us',\n",
              " 'who',\n",
              " 'prefer',\n",
              " 'to',\n",
              " 'stay',\n",
              " 'sober',\n",
              " 'can',\n",
              " 'finally',\n",
              " 'find',\n",
              " 'club',\n",
              " 'soda',\n",
              " 'at',\n",
              " 'the',\n",
              " 'local',\n",
              " 'supermarket',\n",
              " '?',\n",
              " '#coronavirus',\n",
              " 'supermarket',\n",
              " 'workers',\n",
              " 'are',\n",
              " 'actually',\n",
              " 'the',\n",
              " 'fourth',\n",
              " 'emergency',\n",
              " 'service',\n",
              " 'scammers',\n",
              " 'are',\n",
              " 'using',\n",
              " 'covid-19',\n",
              " 'messages',\n",
              " 'to',\n",
              " 'scam',\n",
              " 'people',\n",
              " 'https://t.co/nzsthpcxre',\n",
              " 'no',\n",
              " 'heaven',\n",
              " 'or',\n",
              " 'hades',\n",
              " 'for',\n",
              " 'these',\n",
              " 'scammers',\n",
              " 'on',\n",
              " 'judgement',\n",
              " 'day',\n",
              " '-',\n",
              " 'eternal',\n",
              " 'quarantine',\n",
              " 'hey',\n",
              " 'from',\n",
              " 'wednesday',\n",
              " '3',\n",
              " 'days',\n",
              " 'off',\n",
              " 'from',\n",
              " 'helping',\n",
              " 'out',\n",
              " 'a',\n",
              " 'supermarket',\n",
              " 'during',\n",
              " 'free',\n",
              " 'add',\n",
              " 'any',\n",
              " 'link',\n",
              " 'tell',\n",
              " 'me',\n",
              " 'which',\n",
              " 'one',\n",
              " 'in',\n",
              " 'the',\n",
              " 'poll',\n",
              " 'i',\n",
              " 'll',\n",
              " 'feature',\n",
              " 'on',\n",
              " 'my',\n",
              " 'blog',\n",
              " '226k',\n",
              " 'views',\n",
              " 'i',\n",
              " 'll',\n",
              " 'tweet',\n",
              " 'to',\n",
              " 'over',\n",
              " '54k',\n",
              " 'followers',\n",
              " 'my',\n",
              " 'mom',\n",
              " 'found',\n",
              " 'some',\n",
              " '#vintagetoiletpaper',\n",
              " '?',\n",
              " 'in',\n",
              " 'her',\n",
              " 'basement.',\n",
              " 'iã\\x82â\\x92m',\n",
              " 'thinking',\n",
              " 'circa',\n",
              " '1987.',\n",
              " 'itã\\x82â\\x92s',\n",
              " 'blue',\n",
              " 'and',\n",
              " 'peach.',\n",
              " 'i',\n",
              " 'told',\n",
              " 'her',\n",
              " 'to',\n",
              " 'list',\n",
              " 'it',\n",
              " 'on',\n",
              " '@ebay',\n",
              " 'for',\n",
              " 'some',\n",
              " 'easy?',\n",
              " '?',\n",
              " '???',\n",
              " '#toiletpaper',\n",
              " '#coronavirus',\n",
              " 'https://t.co/2tvpmsaxox',\n",
              " '@realdonaldtrump',\n",
              " 'hear',\n",
              " 'me',\n",
              " 'out,',\n",
              " 'instead',\n",
              " 'of',\n",
              " 'bailing',\n",
              " 'out',\n",
              " 'corporations',\n",
              " '.',\n",
              " 'what',\n",
              " 'if',\n",
              " 'you',\n",
              " 'bailed',\n",
              " 'everyoneã\\x82â\\x92s',\n",
              " 'debt',\n",
              " 'who',\n",
              " 'makes',\n",
              " 'under',\n",
              " '200k?',\n",
              " 'i',\n",
              " 'bet',\n",
              " 'it',\n",
              " 'would',\n",
              " 'be',\n",
              " 'less',\n",
              " 'than',\n",
              " 'the',\n",
              " 'billions',\n",
              " 'you',\n",
              " 'are',\n",
              " 'using',\n",
              " 'aaannnddd',\n",
              " 'it',\n",
              " 'will',\n",
              " 'make',\n",
              " 'consumer',\n",
              " 'rebuy',\n",
              " 'a',\n",
              " 'lot',\n",
              " 'more!',\n",
              " 'plus!',\n",
              " 'itã\\x82â\\x92s',\n",
              " 'our',\n",
              " 'tax',\n",
              " 'mon',\n",
              " 'protect',\n",
              " 'yourself',\n",
              " 'and',\n",
              " 'others',\n",
              " 'by',\n",
              " 'washing',\n",
              " 'your',\n",
              " 'hands',\n",
              " 'often',\n",
              " 'with',\n",
              " 'soap',\n",
              " 'and',\n",
              " 'water',\n",
              " 'or',\n",
              " 'use',\n",
              " 'hand',\n",
              " 'sanitizer',\n",
              " '#coronavirus',\n",
              " '#covid-19',\n",
              " '#wolverhampton',\n",
              " '???',\n",
              " 'https://t.co/e7ifbsqaxx',\n",
              " 'these',\n",
              " 'two',\n",
              " 'stories',\n",
              " 'should',\n",
              " 'be',\n",
              " 'mutually',\n",
              " 'exclusive.',\n",
              " \"couldn't\",\n",
              " 'one',\n",
              " 'help',\n",
              " 'alleviate',\n",
              " 'the',\n",
              " 'other',\n",
              " 'and',\n",
              " 'vice',\n",
              " 'versa?',\n",
              " 'https://t.co/01oc3pig5b',\n",
              " 'https://t.co/omjr2atzhp',\n",
              " \"here's\",\n",
              " 'an',\n",
              " 'idea,',\n",
              " 'become',\n",
              " 'an',\n",
              " 'historian.',\n",
              " 'write',\n",
              " 'a',\n",
              " 'daily',\n",
              " 'or',\n",
              " 'weekly',\n",
              " 'blog',\n",
              " 'or',\n",
              " 'diary',\n",
              " 'to',\n",
              " 'your',\n",
              " 'grand',\n",
              " 'children',\n",
              " 'about',\n",
              " 'your',\n",
              " '#coronavirus',\n",
              " ...]"
            ]
          },
          "metadata": {},
          "execution_count": 41
        }
      ]
    },
    {
      "cell_type": "markdown",
      "metadata": {
        "id": "Pe0h2Jqkpnao"
      },
      "source": [
        "Какой размер словаря получился?"
      ]
    },
    {
      "cell_type": "code",
      "execution_count": 42,
      "metadata": {
        "id": "umyENA7EpokD",
        "colab": {
          "base_uri": "https://localhost:8080/"
        },
        "outputId": "b8369597-99ad-4114-9fe8-47eecb3a7005"
      },
      "outputs": [
        {
          "output_type": "execute_result",
          "data": {
            "text/plain": [
              "754630"
            ]
          },
          "metadata": {},
          "execution_count": 42
        }
      ],
      "source": [
        "len(dictionary)"
      ]
    },
    {
      "cell_type": "markdown",
      "metadata": {
        "id": "0d2G1Z-Qpqkd"
      },
      "source": [
        "Выведите 10 самых популярных токенов с количеством встреч каждого из них. Объясните, почему именно эти токены в топе"
      ]
    },
    {
      "cell_type": "code",
      "execution_count": 43,
      "metadata": {
        "id": "Impi32a_pssg"
      },
      "outputs": [],
      "source": [
        "from collections import Counter"
      ]
    },
    {
      "cell_type": "code",
      "source": [
        "dictionary_frequency = Counter(dictionary)\n",
        "\n",
        "print(\"Самые популярные токены:\")\n",
        "for token, frequency in dictionary_frequency.most_common(10):\n",
        "    print(token, \":\", frequency)"
      ],
      "metadata": {
        "colab": {
          "base_uri": "https://localhost:8080/"
        },
        "id": "3e61MrRrS56g",
        "outputId": "d04b2dd3-55eb-4667-9619-d828dbe466ae"
      },
      "execution_count": 44,
      "outputs": [
        {
          "output_type": "stream",
          "name": "stdout",
          "text": [
            "Самые популярные токены:\n",
            "the : 26815\n",
            "to : 23373\n",
            "and : 14684\n",
            "of : 13012\n",
            "a : 11737\n",
            "in : 11198\n",
            "for : 8566\n",
            "#coronavirus : 8223\n",
            "is : 7383\n",
            "are : 7050\n"
          ]
        }
      ]
    },
    {
      "cell_type": "markdown",
      "metadata": {
        "id": "ZtuJCD0ApuFd"
      },
      "source": [
        "**Ответ:** Как мы видим, 9 токенов - это предлоги, они всегда самые распространнёные, потому что на них строятся предложения, далее необходимо удалить их чтобы они не мешали анализу (либо же сделать их вес самым минимальным). Также, на 10-ом месте по популярности стоит хэштэг о короновирусе, ведь все твиты посвещены именно ему\n",
        "\n"
      ]
    },
    {
      "cell_type": "markdown",
      "metadata": {
        "id": "T7DTQDkWsVYp"
      },
      "source": [
        "Удалите стоп-слова из словаря и выведите новый топ-10 токенов (и количество встреч) по популярности.  Что можно сказать  о нем?"
      ]
    },
    {
      "cell_type": "code",
      "source": [
        "nltk.download('stopwords')\n",
        "from nltk.corpus import stopwords"
      ],
      "metadata": {
        "colab": {
          "base_uri": "https://localhost:8080/"
        },
        "id": "FH9Lye18VjqS",
        "outputId": "8f276bae-f157-45d4-eb5c-bd205bd5d6de"
      },
      "execution_count": 45,
      "outputs": [
        {
          "output_type": "stream",
          "name": "stderr",
          "text": [
            "[nltk_data] Downloading package stopwords to /root/nltk_data...\n",
            "[nltk_data]   Unzipping corpora/stopwords.zip.\n"
          ]
        }
      ]
    },
    {
      "cell_type": "code",
      "execution_count": 46,
      "metadata": {
        "id": "8csSAdgTsnFx"
      },
      "outputs": [],
      "source": [
        "stop_words = set(stopwords.words('english'))\n",
        "filtered_words = [word for word in dictionary if word not in stop_words]\n",
        "filtered_text = ' '.join(filtered_words)"
      ]
    },
    {
      "cell_type": "code",
      "source": [
        "dictionary_wo_stops = filtered_text.split()\n",
        "\n",
        "dictionary_wo_stops_frequency = Counter(dictionary_wo_stops)\n",
        "\n",
        "print(\"Самые популярные токены:\")\n",
        "for token, frequency in dictionary_wo_stops_frequency.most_common(10):\n",
        "    print(token, \":\", frequency)"
      ],
      "metadata": {
        "colab": {
          "base_uri": "https://localhost:8080/"
        },
        "id": "Kv85GXFQXn31",
        "outputId": "2d069521-4d23-419b-b952-bcfb56922377"
      },
      "execution_count": 47,
      "outputs": [
        {
          "output_type": "stream",
          "name": "stdout",
          "text": [
            "Самые популярные токены:\n",
            "#coronavirus : 8223\n",
            "prices : 3891\n",
            "food : 3820\n",
            "grocery : 3469\n",
            "supermarket : 3288\n",
            "people : 3175\n",
            "covid-19 : 3173\n",
            "store : 3155\n",
            "#covid19 : 2471\n",
            "&amp; : 2314\n"
          ]
        }
      ]
    },
    {
      "cell_type": "markdown",
      "metadata": {
        "id": "LZH0x2Lzs-Dh"
      },
      "source": [
        "**Ответ:**  Теперь, самый популярный токен - это хэштэг о короновирусе, что логично, ведь он входил в прошлый топ-10. Все остальные, просто популярные слова"
      ]
    },
    {
      "cell_type": "markdown",
      "metadata": {
        "id": "TKSGRyI-uor0"
      },
      "source": [
        "Также выведите 20 самых непопулярных слов (если самых непопулярных слов больше выведите любые 20 из них) Почему эти токены непопулярны, требуется ли как-то дополнительно работать с ними?"
      ]
    },
    {
      "cell_type": "code",
      "execution_count": null,
      "metadata": {
        "id": "moArbwfvun9t",
        "colab": {
          "base_uri": "https://localhost:8080/"
        },
        "outputId": "e17c1fc7-01eb-4a2e-a476-667b843ae9ee"
      },
      "outputs": [
        {
          "output_type": "stream",
          "name": "stdout",
          "text": [
            "Самые непопулярные токены:\n",
            "https://t.co/7j2y3rsld9 : 1\n",
            "@680news : 1\n",
            "@torontopearson : 1\n",
            "nothing... : 1\n",
            "flew : 1\n",
            "wage! : 1\n",
            "renewing : 1\n",
            "playersãâ : 1\n",
            "subsidise : 1\n",
            "non-playing : 1\n",
            "premiership : 1\n",
            "https://t.co/iaek4fwsgz : 1\n",
            "@srinivasiyc : 1\n",
            "https://t.co/zjcl195vqs : 1\n",
            "#southkerry : 1\n",
            "#skelligcoast2kms : 1\n",
            "@skelligsix18 : 1\n",
            "closer!) : 1\n",
            "coast! : 1\n",
            "skellig : 1\n"
          ]
        }
      ],
      "source": [
        "print(\"Самые непопулярные токены:\")\n",
        "for token, frequency in dictionary_wo_stops_frequency.most_common()[:-21:-1]:\n",
        "    print(token, \":\", frequency)"
      ]
    },
    {
      "cell_type": "markdown",
      "metadata": {
        "id": "uRp3J1gQunlR"
      },
      "source": [
        "**Ответ:** Тут мы видим тэги пользователей, ссылки и слова со знаками препинания, с первыми двумя не уверен, что можно полноценно работать, а с третьим - думаю, можно попытаться использовать токенайзер лучше, чтобы отделить их и посмотреть результат\n",
        "\n"
      ]
    },
    {
      "cell_type": "markdown",
      "metadata": {
        "id": "wx9LQOSPzvjV"
      },
      "source": [
        "Теперь воспользуемся токенайзером получше - TweetTokenizer из библиотеки nltk. Примените его и посмотрите на топ-10 популярных слов. Чем он отличается от топа, который получался раньше? Почему?"
      ]
    },
    {
      "cell_type": "code",
      "execution_count": 48,
      "metadata": {
        "id": "2G1UkyVxzvFY"
      },
      "outputs": [],
      "source": [
        "from nltk.tokenize import TweetTokenizer\n",
        "\n",
        "tokinizer = TweetTokenizer()\n",
        "\n",
        "tweet_dictionary = tokinizer.tokenize(string)"
      ]
    },
    {
      "cell_type": "code",
      "source": [
        "tweet_dictionary_frequency = Counter(tweet_dictionary)\n",
        "\n",
        "print(\"Самые популярные токены:\")\n",
        "for token, frequency in tweet_dictionary_frequency.most_common(10):\n",
        "    print(token, \":\", frequency)"
      ],
      "metadata": {
        "colab": {
          "base_uri": "https://localhost:8080/"
        },
        "id": "xIMq4RdtaZqg",
        "outputId": "d81596db-87ca-4c6d-be49-82e9fa179a47"
      },
      "execution_count": 49,
      "outputs": [
        {
          "output_type": "stream",
          "name": "stdout",
          "text": [
            "Самые популярные токены:\n",
            "the : 26993\n",
            ". : 24108\n",
            "to : 23478\n",
            ", : 17571\n",
            "and : 14825\n",
            "of : 13044\n",
            "a : 11891\n",
            "in : 11348\n",
            "? : 9524\n",
            "#coronavirus : 8808\n"
          ]
        }
      ]
    },
    {
      "cell_type": "markdown",
      "metadata": {
        "id": "50eVUnJN1Zxl"
      },
      "source": [
        "**Ответ:** В этом топе также присутствуют разделённые знаки препинания, они встречаются очень часто, но в прошлом топе они отсутствовали, т.к. предыдущий токенайзер не мог разделять их"
      ]
    },
    {
      "cell_type": "markdown",
      "metadata": {
        "id": "1gqQgiMs11bs"
      },
      "source": [
        "Удалите из словаря стоп-слова и пунктуацию, посмотрите на новый топ-10 слов с количеством встреч, есть ли теперь в нем что-то не похожее на слова?"
      ]
    },
    {
      "cell_type": "code",
      "execution_count": 50,
      "metadata": {
        "id": "0yHWdFrp0Mup"
      },
      "outputs": [],
      "source": [
        "from string import punctuation\n",
        "\n",
        "noise = stopwords.words('english') + list(punctuation)\n",
        "\n",
        "filtered_words = [word for word in dictionary if word not in noise]\n",
        "filtered_tweets = ' '.join(filtered_words)"
      ]
    },
    {
      "cell_type": "code",
      "source": [
        "tweets_wo_stops = filtered_tweets.split()\n",
        "\n",
        "tweets_wo_stops_frequency = Counter(tweets_wo_stops)\n",
        "\n",
        "print(\"Самые популярные токены:\")\n",
        "for token, frequency in tweets_wo_stops_frequency.most_common(10):\n",
        "    print(token, \":\", frequency)"
      ],
      "metadata": {
        "colab": {
          "base_uri": "https://localhost:8080/"
        },
        "id": "tRKrzobobPPo",
        "outputId": "e3830db3-46ac-46fd-a505-4e9a7a019685"
      },
      "execution_count": null,
      "outputs": [
        {
          "output_type": "stream",
          "name": "stdout",
          "text": [
            "Самые популярные токены:\n",
            "#coronavirus : 8223\n",
            "prices : 3891\n",
            "food : 3820\n",
            "grocery : 3469\n",
            "supermarket : 3288\n",
            "people : 3175\n",
            "covid-19 : 3173\n",
            "store : 3155\n",
            "#covid19 : 2471\n",
            "&amp; : 2314\n"
          ]
        }
      ]
    },
    {
      "cell_type": "markdown",
      "metadata": {
        "id": "8ZJqXELP_Yxy"
      },
      "source": [
        "**Ответ:** Да, хоть и 9 из 10 - это слова или хэштеги, у нас затесалась кодировка знака \"амперсанд\""
      ]
    },
    {
      "cell_type": "markdown",
      "metadata": {
        "id": "rzXjMsSB_kXB"
      },
      "source": [
        "Удалите из словаря токены из одного символа, с позицией в таблице Unicode 128 и более (`ord(x) >= 128`)\n",
        "\n",
        "Выведите топ-10 самых популярных и топ-20 непопулярных слов. Чем полученные топы отличаются от итоговых топов, полученных при использовании токенизации по пробелам? Что теперь лучше, а что хуже?"
      ]
    },
    {
      "cell_type": "code",
      "execution_count": null,
      "metadata": {
        "id": "1695hlkS_1-J"
      },
      "outputs": [],
      "source": [
        "filtered_tweets_wo_stops = {token: count for token, count in tweets_wo_stops_frequency.items() if len(token) > 1 or ord(token) < 128}"
      ]
    },
    {
      "cell_type": "code",
      "source": [
        "filtered_tweets_wo_stops_frequency = Counter(filtered_tweets_wo_stops)\n",
        "\n",
        "print(\"Самые популярные токены:\")\n",
        "for token, frequency in filtered_tweets_wo_stops_frequency.most_common(10):\n",
        "    print(token, \":\", frequency)\n",
        "\n",
        "print(\"\\nСамые непопулярные токены:\")\n",
        "for token, frequency in filtered_tweets_wo_stops_frequency.most_common()[:-21:-1]:\n",
        "    print(token, \":\", frequency)"
      ],
      "metadata": {
        "colab": {
          "base_uri": "https://localhost:8080/"
        },
        "id": "fPqAhTiWeANW",
        "outputId": "92f3416e-cf5a-404d-982d-9fb70a898219"
      },
      "execution_count": null,
      "outputs": [
        {
          "output_type": "stream",
          "name": "stdout",
          "text": [
            "Самые популярные токены:\n",
            "#coronavirus : 8223\n",
            "prices : 3891\n",
            "food : 3820\n",
            "grocery : 3469\n",
            "supermarket : 3288\n",
            "people : 3175\n",
            "covid-19 : 3173\n",
            "store : 3155\n",
            "#covid19 : 2471\n",
            "&amp; : 2314\n",
            "\n",
            "Самые непопулярные токены:\n",
            "https://t.co/7j2y3rsld9 : 1\n",
            "@680news : 1\n",
            "@torontopearson : 1\n",
            "nothing... : 1\n",
            "flew : 1\n",
            "wage! : 1\n",
            "renewing : 1\n",
            "playersãâ : 1\n",
            "subsidise : 1\n",
            "non-playing : 1\n",
            "premiership : 1\n",
            "https://t.co/iaek4fwsgz : 1\n",
            "@srinivasiyc : 1\n",
            "https://t.co/zjcl195vqs : 1\n",
            "#southkerry : 1\n",
            "#skelligcoast2kms : 1\n",
            "@skelligsix18 : 1\n",
            "closer!) : 1\n",
            "coast! : 1\n",
            "skellig : 1\n"
          ]
        }
      ]
    },
    {
      "cell_type": "markdown",
      "metadata": {
        "id": "KzjHAKIlDvc6"
      },
      "source": [
        "**Ответ:** Я не вижу различий"
      ]
    },
    {
      "cell_type": "markdown",
      "metadata": {
        "id": "EcDf9_6HB2zm"
      },
      "source": [
        "Выведите топ-10 популярных хештегов с количеством встреч. Что можно сказать о них?"
      ]
    },
    {
      "cell_type": "code",
      "execution_count": 51,
      "metadata": {
        "id": "zk4fygCUBw3l",
        "colab": {
          "base_uri": "https://localhost:8080/"
        },
        "outputId": "11f42340-45d6-4253-ee00-73e8549f4f44"
      },
      "outputs": [
        {
          "output_type": "stream",
          "name": "stdout",
          "text": [
            "Самые популярные хэштеги:\n",
            "#coronavirus : 8835\n",
            "#covid19 : 2593\n",
            "#covid_19 : 1735\n",
            "#covid2019 : 946\n",
            "#covid : 863\n",
            "#toiletpaper : 744\n",
            "#socialdistancing : 465\n",
            "#coronacrisis : 448\n",
            "#pandemic : 257\n",
            "#coronaviruspandemic : 249\n"
          ]
        }
      ],
      "source": [
        "import re\n",
        "hashtags = re.findall(r'#\\w+', string)\n",
        "\n",
        "hashtag_frequency = Counter(hashtags)\n",
        "\n",
        "print(\"Самые популярные хэштеги:\")\n",
        "for hashtag, frequency in hashtag_frequency.most_common(10):\n",
        "    print(hashtag, \":\", frequency)"
      ]
    },
    {
      "cell_type": "markdown",
      "metadata": {
        "id": "-6NeNWBkDxM7"
      },
      "source": [
        "**Ответ:** 9 из 10 посвящены напрямую коронавирусу"
      ]
    },
    {
      "cell_type": "markdown",
      "metadata": {
        "id": "LLYBg7caD5GA"
      },
      "source": [
        "То же самое проделайте для ссылок на сайт https://t.co Сравнима ли популярность ссылок с популярностью хештегов? Будет ли информация о ссылке на конкретную страницу полезна?"
      ]
    },
    {
      "cell_type": "code",
      "execution_count": null,
      "metadata": {
        "id": "MXbm1oeaCK9S",
        "colab": {
          "base_uri": "https://localhost:8080/"
        },
        "outputId": "ca6598d7-f25e-4383-abd6-a4347ed601d5"
      },
      "outputs": [
        {
          "output_type": "stream",
          "name": "stdout",
          "text": [
            "Самые популярные ссылки на сайт https://t.co:\n",
            " https://t.co/oxa7swtond : 5\n",
            " https://t.co/gp3eusapl8 : 4\n",
            " https://t.co/deftrui1pfã : 3\n",
            " https://t.co/zjnrx6dkkn : 3\n",
            " https://t.co/3gbbdpdjat : 3\n",
            " https://t.co/e2znxajpre : 3\n",
            " https://t.co/g63rp042ho : 3\n",
            " https://t.co/aziqcdgrnn : 3\n",
            " https://t.co/bylqxrjmnt : 3\n",
            " https://t.co/wuieefsnoj : 3\n"
          ]
        }
      ],
      "source": [
        "t_links = re.findall(r' https://t.co/\\w+', string)\n",
        "\n",
        "t_links_frequency = Counter(t_links)\n",
        "\n",
        "print(\"Самые популярные ссылки на сайт https://t.co:\")\n",
        "for t_link, frequency in t_links_frequency.most_common(10):\n",
        "    print(t_link, \":\", frequency)"
      ]
    },
    {
      "cell_type": "markdown",
      "metadata": {
        "id": "at6lRYZ8A07N"
      },
      "source": [
        "**Ответ:** Нет, популярность самого высокого, меньше более, чем в 1000 раз! Так что, не сравнима. Думаю, что информация о ссылке на конкретную страницу не так полезна, когда мы будем смотреть новые данные"
      ]
    },
    {
      "cell_type": "markdown",
      "metadata": {
        "id": "IOGdUU1kBU1D"
      },
      "source": [
        "Используем опыт предыдущих экспериментов и напишем собственный токенайзер, улучшив TweetTokenizer. Функция tokenize должна:\n",
        "\n",
        "\n",
        "\n",
        "*   Привести текст в нижний регистр\n",
        "*   Применить TweetTokenizer для изначального выделения токенов\n",
        "*   Удалить стоп-слова, пунктуацию, токены из одного символа, с позицией в таблице Unicode 128 и более и ссылки на t.co\n",
        "\n"
      ]
    },
    {
      "cell_type": "code",
      "source": [
        "nltk.download('stopwords')"
      ],
      "metadata": {
        "colab": {
          "base_uri": "https://localhost:8080/"
        },
        "id": "ulBF9ObrYgRr",
        "outputId": "8940278b-e713-4237-bf6e-d2bdb9f160c7"
      },
      "execution_count": null,
      "outputs": [
        {
          "output_type": "stream",
          "name": "stderr",
          "text": [
            "[nltk_data] Downloading package stopwords to /root/nltk_data...\n",
            "[nltk_data]   Package stopwords is already up-to-date!\n"
          ]
        },
        {
          "output_type": "execute_result",
          "data": {
            "text/plain": [
              "True"
            ]
          },
          "metadata": {},
          "execution_count": 18
        }
      ]
    },
    {
      "cell_type": "code",
      "source": [
        "def custom_tokenizer(text):\n",
        "    text = text.lower()\n",
        "    tokenizer = TweetTokenizer()\n",
        "    initial_tokens = tokenizer.tokenize(text)\n",
        "\n",
        "    tokens = [\n",
        "        token for token in initial_tokens\n",
        "        if token not in stop_words\n",
        "        and token not in punctuation\n",
        "        and (len(token) == 1 and ord(token) < 128 or (len(token) > 1))\n",
        "        and not token.startswith('https://t.co')\n",
        "    ]\n",
        "\n",
        "    return tokens"
      ],
      "metadata": {
        "id": "Py_afjmeZ_Zl"
      },
      "execution_count": 52,
      "outputs": []
    },
    {
      "cell_type": "code",
      "execution_count": 53,
      "metadata": {
        "colab": {
          "base_uri": "https://localhost:8080/"
        },
        "id": "XwbgtYkJGYym",
        "outputId": "9f48db79-0d6a-4633-e26b-fcea7989aae8"
      },
      "outputs": [
        {
          "output_type": "execute_result",
          "data": {
            "text/plain": [
              "['sample', 'text', '#sampletext']"
            ]
          },
          "metadata": {},
          "execution_count": 53
        }
      ],
      "source": [
        "custom_tokenizer('This is sample text!!!! @Sample_text I, \\x92\\x92 https://t.co/sample  #sampletext')"
      ]
    },
    {
      "cell_type": "markdown",
      "metadata": {
        "id": "wURVABmXHk97"
      },
      "source": [
        "## Задание 3 Векторизация текстов (2 балла)"
      ]
    },
    {
      "cell_type": "markdown",
      "metadata": {
        "id": "H44iXkoHIQfN"
      },
      "source": [
        "Обучите CountVectorizer с использованием custom_tokenizer в качестве токенайзера. Как размер полученного словаря соотносится с размером изначального словаря из начала задания 2?"
      ]
    },
    {
      "cell_type": "code",
      "source": [
        "string = ' '.join(train['OriginalTweet'])"
      ],
      "metadata": {
        "id": "avyMi3I0YzNf"
      },
      "execution_count": 54,
      "outputs": []
    },
    {
      "cell_type": "code",
      "source": [
        "dictionary = custom_tokenizer(string)"
      ],
      "metadata": {
        "id": "YVJrB6WVY71T"
      },
      "execution_count": 55,
      "outputs": []
    },
    {
      "cell_type": "code",
      "source": [
        "from sklearn.feature_extraction.text import CountVectorizer\n",
        "\n",
        "cv = CountVectorizer()\n",
        "\n",
        "X = cv.fit_transform(dictionary)\n",
        "\n",
        "\n",
        "print(len(cv.vocabulary_))"
      ],
      "metadata": {
        "colab": {
          "base_uri": "https://localhost:8080/"
        },
        "id": "gHn_limQl3BI",
        "outputId": "362f4e2e-8d75-4338-de37-7667b6ac2995"
      },
      "execution_count": 56,
      "outputs": [
        {
          "output_type": "stream",
          "name": "stdout",
          "text": [
            "34125\n"
          ]
        }
      ]
    },
    {
      "cell_type": "markdown",
      "metadata": {
        "id": "gsfmaSGoItUm"
      },
      "source": [
        "**Ответ:** Размер уменьшился\n",
        "\n",
        "\n"
      ]
    },
    {
      "cell_type": "markdown",
      "metadata": {
        "id": "lm6UHNmqKZT0"
      },
      "source": [
        "Посмотрим на какой-нибудь конкретный твитт:"
      ]
    },
    {
      "cell_type": "code",
      "execution_count": null,
      "metadata": {
        "id": "aJVjjfqOJh8m",
        "colab": {
          "base_uri": "https://localhost:8080/"
        },
        "outputId": "e640d8fb-7d96-425f-bd7e-650a075b8a60"
      },
      "outputs": [
        {
          "output_type": "execute_result",
          "data": {
            "text/plain": [
              "('Nice one @SkyNews lets not panic but show ppl in france queueing for food!!! #CoronavirusOutbreak #COVID2019 brainless!! Ffs',\n",
              " 0)"
            ]
          },
          "metadata": {},
          "execution_count": 34
        }
      ],
      "source": [
        "ind = 9023\n",
        "train.iloc[ind]['OriginalTweet'], train.iloc[ind]['Sentiment']"
      ]
    },
    {
      "cell_type": "markdown",
      "metadata": {
        "id": "PBMIHBI5KdaS"
      },
      "source": [
        "Автор твитта не доволен ситуацией с едой во Франции и текст имеет резко негативную окраску.\n",
        "\n",
        "Примените обученный CountVectorizer для векторизации данного текста, и попытайтесь определить самый важный токен и самый неважный токен (токен, компонента которого в векторе максимальна/минимальна, без учета 0). Хорошо ли они определились, почему?"
      ]
    },
    {
      "cell_type": "code",
      "source": [
        "tweet = train.iloc[9023]['OriginalTweet']\n",
        "tweet_vector = cv.transform([tweet])\n",
        "tweet_vector = tweet_vector.toarray()[0]\n",
        "\n",
        "most_important_token = list(cv.vocabulary_.keys())[list(cv.vocabulary_.values()).index(tweet_vector.argmax())]\n",
        "least_important_token = list(cv.vocabulary_.keys())[list(tweet_vector).index(tweet_vector.min())]\n",
        "print(\"Самый важный токен:\", most_important_token)\n",
        "print(\"Самый неважный токен:\", least_important_token)"
      ],
      "metadata": {
        "colab": {
          "base_uri": "https://localhost:8080/"
        },
        "id": "nCjHBW2ZQ3ju",
        "outputId": "cdcf1cc6-c046-4145-aee4-60d5dc43902e"
      },
      "execution_count": null,
      "outputs": [
        {
          "output_type": "stream",
          "name": "stdout",
          "text": [
            "Самый важный токен: brainless\n",
            "Самый неважный токен: still\n"
          ]
        }
      ]
    },
    {
      "cell_type": "markdown",
      "metadata": {
        "id": "TpEsl1k_NF4T"
      },
      "source": [
        "**Ответ:** В целом, хорошо. Ведь по слову brainless можно понять окраску твита"
      ]
    },
    {
      "cell_type": "markdown",
      "metadata": {
        "id": "w4DsEQpLO3J6"
      },
      "source": [
        "Теперь примените TfidfVectorizer и  определите самый важный/неважный токены. Хорошо ли определились, почему?"
      ]
    },
    {
      "cell_type": "code",
      "source": [
        "from sklearn.feature_extraction.text import TfidfVectorizer\n",
        "vectorizer = TfidfVectorizer()\n",
        "X = vectorizer.fit_transform(train['OriginalTweet'])\n",
        "\n",
        "feature_names = vectorizer.get_feature_names_out()\n",
        "\n",
        "first_document_vector = X[9023]\n",
        "\n",
        "df_show = pd.DataFrame(first_document_vector.T.todense(), index=feature_names, columns=[\"tfidf\"])\n",
        "\n",
        "print(df_show.sort_values(by=[\"tfidf\"],ascending=False))"
      ],
      "metadata": {
        "colab": {
          "base_uri": "https://localhost:8080/"
        },
        "id": "1aOKgIlnRGxT",
        "outputId": "6e1d6304-79e6-4b3d-e676-f1f6bc67ca67"
      },
      "execution_count": null,
      "outputs": [
        {
          "output_type": "stream",
          "name": "stdout",
          "text": [
            "               tfidf\n",
            "brainless   0.379803\n",
            "queueing    0.347968\n",
            "ffs         0.316620\n",
            "france      0.303411\n",
            "skynews     0.302034\n",
            "...              ...\n",
            "f6d39ce9eb  0.000000\n",
            "f6h8ukprjo  0.000000\n",
            "f6k5c2s3be  0.000000\n",
            "f6llyrhko2  0.000000\n",
            "â½          0.000000\n",
            "\n",
            "[52798 rows x 1 columns]\n"
          ]
        }
      ]
    },
    {
      "cell_type": "markdown",
      "metadata": {
        "id": "NYao_UhqQADm"
      },
      "source": [
        "**Ответ:** В целом, хорошо. Ведь по слову brainless можно понять окраску твита"
      ]
    },
    {
      "cell_type": "markdown",
      "metadata": {
        "id": "LGRJPqfWSesQ"
      },
      "source": [
        "Найдите какой-нибудь положительно окрашенный твитт, где TfidfVectorizer хорошо (полезно для определения окраски) выделяет важный токен, поясните пример.\n",
        "\n",
        "*Подсказка:* явно положительные твитты можно искать при помощи положительных слов (good, great, amazing и т. д.)"
      ]
    },
    {
      "cell_type": "code",
      "execution_count": null,
      "metadata": {
        "id": "bRbQ2CHiSuJI",
        "colab": {
          "base_uri": "https://localhost:8080/",
          "height": 206
        },
        "outputId": "a909601b-cf42-4d7e-8366-01eca43f186b"
      },
      "outputs": [
        {
          "output_type": "execute_result",
          "data": {
            "text/plain": [
              "       UserName  ScreenName              Location     TweetAt  \\\n",
              "21882     30510       75462               Unknown  02-04-2020   \n",
              "16543     23943       68895        Surat, Gujarat  24-03-2020   \n",
              "23318     32289       77241  Dublin City, Ireland  04-04-2020   \n",
              "2734       7106       52058                    UK  18-03-2020   \n",
              "19172     27135       72087   Adelaide, Australia  26-03-2020   \n",
              "\n",
              "                                           OriginalTweet  Sentiment  \n",
              "21882  Standing in a 40 minute queue for the supermar...          1  \n",
              "16543  Day 3 of #quarantine and I'm playing amazon qu...          1  \n",
              "23318  Healthcare workers are amazing during this #CO...          1  \n",
              "2734   Crude Oil is now worth 2001 prices, $20 a barr...          1  \n",
              "19172  @markbritnell Agreed, in a month itÃÂs amazi...          1  "
            ],
            "text/html": [
              "\n",
              "  <div id=\"df-f23772dd-3970-4f2e-8e4c-4f5f98815963\" class=\"colab-df-container\">\n",
              "    <div>\n",
              "<style scoped>\n",
              "    .dataframe tbody tr th:only-of-type {\n",
              "        vertical-align: middle;\n",
              "    }\n",
              "\n",
              "    .dataframe tbody tr th {\n",
              "        vertical-align: top;\n",
              "    }\n",
              "\n",
              "    .dataframe thead th {\n",
              "        text-align: right;\n",
              "    }\n",
              "</style>\n",
              "<table border=\"1\" class=\"dataframe\">\n",
              "  <thead>\n",
              "    <tr style=\"text-align: right;\">\n",
              "      <th></th>\n",
              "      <th>UserName</th>\n",
              "      <th>ScreenName</th>\n",
              "      <th>Location</th>\n",
              "      <th>TweetAt</th>\n",
              "      <th>OriginalTweet</th>\n",
              "      <th>Sentiment</th>\n",
              "    </tr>\n",
              "  </thead>\n",
              "  <tbody>\n",
              "    <tr>\n",
              "      <th>21882</th>\n",
              "      <td>30510</td>\n",
              "      <td>75462</td>\n",
              "      <td>Unknown</td>\n",
              "      <td>02-04-2020</td>\n",
              "      <td>Standing in a 40 minute queue for the supermar...</td>\n",
              "      <td>1</td>\n",
              "    </tr>\n",
              "    <tr>\n",
              "      <th>16543</th>\n",
              "      <td>23943</td>\n",
              "      <td>68895</td>\n",
              "      <td>Surat, Gujarat</td>\n",
              "      <td>24-03-2020</td>\n",
              "      <td>Day 3 of #quarantine and I'm playing amazon qu...</td>\n",
              "      <td>1</td>\n",
              "    </tr>\n",
              "    <tr>\n",
              "      <th>23318</th>\n",
              "      <td>32289</td>\n",
              "      <td>77241</td>\n",
              "      <td>Dublin City, Ireland</td>\n",
              "      <td>04-04-2020</td>\n",
              "      <td>Healthcare workers are amazing during this #CO...</td>\n",
              "      <td>1</td>\n",
              "    </tr>\n",
              "    <tr>\n",
              "      <th>2734</th>\n",
              "      <td>7106</td>\n",
              "      <td>52058</td>\n",
              "      <td>UK</td>\n",
              "      <td>18-03-2020</td>\n",
              "      <td>Crude Oil is now worth 2001 prices, $20 a barr...</td>\n",
              "      <td>1</td>\n",
              "    </tr>\n",
              "    <tr>\n",
              "      <th>19172</th>\n",
              "      <td>27135</td>\n",
              "      <td>72087</td>\n",
              "      <td>Adelaide, Australia</td>\n",
              "      <td>26-03-2020</td>\n",
              "      <td>@markbritnell Agreed, in a month itÃÂs amazi...</td>\n",
              "      <td>1</td>\n",
              "    </tr>\n",
              "  </tbody>\n",
              "</table>\n",
              "</div>\n",
              "    <div class=\"colab-df-buttons\">\n",
              "\n",
              "  <div class=\"colab-df-container\">\n",
              "    <button class=\"colab-df-convert\" onclick=\"convertToInteractive('df-f23772dd-3970-4f2e-8e4c-4f5f98815963')\"\n",
              "            title=\"Convert this dataframe to an interactive table.\"\n",
              "            style=\"display:none;\">\n",
              "\n",
              "  <svg xmlns=\"http://www.w3.org/2000/svg\" height=\"24px\" viewBox=\"0 -960 960 960\">\n",
              "    <path d=\"M120-120v-720h720v720H120Zm60-500h600v-160H180v160Zm220 220h160v-160H400v160Zm0 220h160v-160H400v160ZM180-400h160v-160H180v160Zm440 0h160v-160H620v160ZM180-180h160v-160H180v160Zm440 0h160v-160H620v160Z\"/>\n",
              "  </svg>\n",
              "    </button>\n",
              "\n",
              "  <style>\n",
              "    .colab-df-container {\n",
              "      display:flex;\n",
              "      gap: 12px;\n",
              "    }\n",
              "\n",
              "    .colab-df-convert {\n",
              "      background-color: #E8F0FE;\n",
              "      border: none;\n",
              "      border-radius: 50%;\n",
              "      cursor: pointer;\n",
              "      display: none;\n",
              "      fill: #1967D2;\n",
              "      height: 32px;\n",
              "      padding: 0 0 0 0;\n",
              "      width: 32px;\n",
              "    }\n",
              "\n",
              "    .colab-df-convert:hover {\n",
              "      background-color: #E2EBFA;\n",
              "      box-shadow: 0px 1px 2px rgba(60, 64, 67, 0.3), 0px 1px 3px 1px rgba(60, 64, 67, 0.15);\n",
              "      fill: #174EA6;\n",
              "    }\n",
              "\n",
              "    .colab-df-buttons div {\n",
              "      margin-bottom: 4px;\n",
              "    }\n",
              "\n",
              "    [theme=dark] .colab-df-convert {\n",
              "      background-color: #3B4455;\n",
              "      fill: #D2E3FC;\n",
              "    }\n",
              "\n",
              "    [theme=dark] .colab-df-convert:hover {\n",
              "      background-color: #434B5C;\n",
              "      box-shadow: 0px 1px 3px 1px rgba(0, 0, 0, 0.15);\n",
              "      filter: drop-shadow(0px 1px 2px rgba(0, 0, 0, 0.3));\n",
              "      fill: #FFFFFF;\n",
              "    }\n",
              "  </style>\n",
              "\n",
              "    <script>\n",
              "      const buttonEl =\n",
              "        document.querySelector('#df-f23772dd-3970-4f2e-8e4c-4f5f98815963 button.colab-df-convert');\n",
              "      buttonEl.style.display =\n",
              "        google.colab.kernel.accessAllowed ? 'block' : 'none';\n",
              "\n",
              "      async function convertToInteractive(key) {\n",
              "        const element = document.querySelector('#df-f23772dd-3970-4f2e-8e4c-4f5f98815963');\n",
              "        const dataTable =\n",
              "          await google.colab.kernel.invokeFunction('convertToInteractive',\n",
              "                                                    [key], {});\n",
              "        if (!dataTable) return;\n",
              "\n",
              "        const docLinkHtml = 'Like what you see? Visit the ' +\n",
              "          '<a target=\"_blank\" href=https://colab.research.google.com/notebooks/data_table.ipynb>data table notebook</a>'\n",
              "          + ' to learn more about interactive tables.';\n",
              "        element.innerHTML = '';\n",
              "        dataTable['output_type'] = 'display_data';\n",
              "        await google.colab.output.renderOutput(dataTable, element);\n",
              "        const docLink = document.createElement('div');\n",
              "        docLink.innerHTML = docLinkHtml;\n",
              "        element.appendChild(docLink);\n",
              "      }\n",
              "    </script>\n",
              "  </div>\n",
              "\n",
              "\n",
              "<div id=\"df-f2ba9f9c-7664-4e0b-891e-16eea5e5f09a\">\n",
              "  <button class=\"colab-df-quickchart\" onclick=\"quickchart('df-f2ba9f9c-7664-4e0b-891e-16eea5e5f09a')\"\n",
              "            title=\"Suggest charts\"\n",
              "            style=\"display:none;\">\n",
              "\n",
              "<svg xmlns=\"http://www.w3.org/2000/svg\" height=\"24px\"viewBox=\"0 0 24 24\"\n",
              "     width=\"24px\">\n",
              "    <g>\n",
              "        <path d=\"M19 3H5c-1.1 0-2 .9-2 2v14c0 1.1.9 2 2 2h14c1.1 0 2-.9 2-2V5c0-1.1-.9-2-2-2zM9 17H7v-7h2v7zm4 0h-2V7h2v10zm4 0h-2v-4h2v4z\"/>\n",
              "    </g>\n",
              "</svg>\n",
              "  </button>\n",
              "\n",
              "<style>\n",
              "  .colab-df-quickchart {\n",
              "      --bg-color: #E8F0FE;\n",
              "      --fill-color: #1967D2;\n",
              "      --hover-bg-color: #E2EBFA;\n",
              "      --hover-fill-color: #174EA6;\n",
              "      --disabled-fill-color: #AAA;\n",
              "      --disabled-bg-color: #DDD;\n",
              "  }\n",
              "\n",
              "  [theme=dark] .colab-df-quickchart {\n",
              "      --bg-color: #3B4455;\n",
              "      --fill-color: #D2E3FC;\n",
              "      --hover-bg-color: #434B5C;\n",
              "      --hover-fill-color: #FFFFFF;\n",
              "      --disabled-bg-color: #3B4455;\n",
              "      --disabled-fill-color: #666;\n",
              "  }\n",
              "\n",
              "  .colab-df-quickchart {\n",
              "    background-color: var(--bg-color);\n",
              "    border: none;\n",
              "    border-radius: 50%;\n",
              "    cursor: pointer;\n",
              "    display: none;\n",
              "    fill: var(--fill-color);\n",
              "    height: 32px;\n",
              "    padding: 0;\n",
              "    width: 32px;\n",
              "  }\n",
              "\n",
              "  .colab-df-quickchart:hover {\n",
              "    background-color: var(--hover-bg-color);\n",
              "    box-shadow: 0 1px 2px rgba(60, 64, 67, 0.3), 0 1px 3px 1px rgba(60, 64, 67, 0.15);\n",
              "    fill: var(--button-hover-fill-color);\n",
              "  }\n",
              "\n",
              "  .colab-df-quickchart-complete:disabled,\n",
              "  .colab-df-quickchart-complete:disabled:hover {\n",
              "    background-color: var(--disabled-bg-color);\n",
              "    fill: var(--disabled-fill-color);\n",
              "    box-shadow: none;\n",
              "  }\n",
              "\n",
              "  .colab-df-spinner {\n",
              "    border: 2px solid var(--fill-color);\n",
              "    border-color: transparent;\n",
              "    border-bottom-color: var(--fill-color);\n",
              "    animation:\n",
              "      spin 1s steps(1) infinite;\n",
              "  }\n",
              "\n",
              "  @keyframes spin {\n",
              "    0% {\n",
              "      border-color: transparent;\n",
              "      border-bottom-color: var(--fill-color);\n",
              "      border-left-color: var(--fill-color);\n",
              "    }\n",
              "    20% {\n",
              "      border-color: transparent;\n",
              "      border-left-color: var(--fill-color);\n",
              "      border-top-color: var(--fill-color);\n",
              "    }\n",
              "    30% {\n",
              "      border-color: transparent;\n",
              "      border-left-color: var(--fill-color);\n",
              "      border-top-color: var(--fill-color);\n",
              "      border-right-color: var(--fill-color);\n",
              "    }\n",
              "    40% {\n",
              "      border-color: transparent;\n",
              "      border-right-color: var(--fill-color);\n",
              "      border-top-color: var(--fill-color);\n",
              "    }\n",
              "    60% {\n",
              "      border-color: transparent;\n",
              "      border-right-color: var(--fill-color);\n",
              "    }\n",
              "    80% {\n",
              "      border-color: transparent;\n",
              "      border-right-color: var(--fill-color);\n",
              "      border-bottom-color: var(--fill-color);\n",
              "    }\n",
              "    90% {\n",
              "      border-color: transparent;\n",
              "      border-bottom-color: var(--fill-color);\n",
              "    }\n",
              "  }\n",
              "</style>\n",
              "\n",
              "  <script>\n",
              "    async function quickchart(key) {\n",
              "      const quickchartButtonEl =\n",
              "        document.querySelector('#' + key + ' button');\n",
              "      quickchartButtonEl.disabled = true;  // To prevent multiple clicks.\n",
              "      quickchartButtonEl.classList.add('colab-df-spinner');\n",
              "      try {\n",
              "        const charts = await google.colab.kernel.invokeFunction(\n",
              "            'suggestCharts', [key], {});\n",
              "      } catch (error) {\n",
              "        console.error('Error during call to suggestCharts:', error);\n",
              "      }\n",
              "      quickchartButtonEl.classList.remove('colab-df-spinner');\n",
              "      quickchartButtonEl.classList.add('colab-df-quickchart-complete');\n",
              "    }\n",
              "    (() => {\n",
              "      let quickchartButtonEl =\n",
              "        document.querySelector('#df-f2ba9f9c-7664-4e0b-891e-16eea5e5f09a button');\n",
              "      quickchartButtonEl.style.display =\n",
              "        google.colab.kernel.accessAllowed ? 'block' : 'none';\n",
              "    })();\n",
              "  </script>\n",
              "</div>\n",
              "    </div>\n",
              "  </div>\n"
            ],
            "application/vnd.google.colaboratory.intrinsic+json": {
              "type": "dataframe",
              "summary": "{\n  \"name\": \"train[train['OriginalTweet']\",\n  \"rows\": 5,\n  \"fields\": [\n    {\n      \"column\": \"UserName\",\n      \"properties\": {\n        \"dtype\": \"number\",\n        \"std\": 10076,\n        \"min\": 7106,\n        \"max\": 32289,\n        \"num_unique_values\": 5,\n        \"samples\": [\n          23943,\n          27135,\n          32289\n        ],\n        \"semantic_type\": \"\",\n        \"description\": \"\"\n      }\n    },\n    {\n      \"column\": \"ScreenName\",\n      \"properties\": {\n        \"dtype\": \"number\",\n        \"std\": 10076,\n        \"min\": 52058,\n        \"max\": 77241,\n        \"num_unique_values\": 5,\n        \"samples\": [\n          68895,\n          72087,\n          77241\n        ],\n        \"semantic_type\": \"\",\n        \"description\": \"\"\n      }\n    },\n    {\n      \"column\": \"Location\",\n      \"properties\": {\n        \"dtype\": \"string\",\n        \"num_unique_values\": 5,\n        \"samples\": [\n          \"Surat, Gujarat\",\n          \"Adelaide, Australia\",\n          \"Dublin City, Ireland\"\n        ],\n        \"semantic_type\": \"\",\n        \"description\": \"\"\n      }\n    },\n    {\n      \"column\": \"TweetAt\",\n      \"properties\": {\n        \"dtype\": \"string\",\n        \"num_unique_values\": 5,\n        \"samples\": [\n          \"24-03-2020\",\n          \"26-03-2020\",\n          \"04-04-2020\"\n        ],\n        \"semantic_type\": \"\",\n        \"description\": \"\"\n      }\n    },\n    {\n      \"column\": \"OriginalTweet\",\n      \"properties\": {\n        \"dtype\": \"string\",\n        \"num_unique_values\": 5,\n        \"samples\": [\n          \"Day 3 of #quarantine and I'm playing amazon quiz. Grab the opportunity to win amazing prices from @amazonIN @amazon. Play indoor games and quiz, stay at home and stay healthy.\\r\\r\\n#QuarantineActivities #CoronaCrisis #lockdown\\r\\r\\n#QuizeTimeMorningsWithAmazon\",\n          \"@markbritnell Agreed, in a month it\\u00c3\\u0082\\u00c2\\u0092s amazing how quickly we\\u00c3\\u0082\\u00c2\\u0092ve spread new &amp; evidence based ways of working in #health. #Telehealth pivot for #GPs in #Oz has been overnight. Worried about how fit-for-purpose is our #clinical #governance, #consumer #\",\n          \"Healthcare workers are amazing during this #COVID2019 pandemic but please let's not forget how amazing our Supermarket workers, chemists workers, Binmen, delivery drivers and distribution works playing a major part in keeping life going. But Healthcare is gettin all the praise\"\n        ],\n        \"semantic_type\": \"\",\n        \"description\": \"\"\n      }\n    },\n    {\n      \"column\": \"Sentiment\",\n      \"properties\": {\n        \"dtype\": \"number\",\n        \"std\": 0,\n        \"min\": 1,\n        \"max\": 1,\n        \"num_unique_values\": 1,\n        \"samples\": [\n          1\n        ],\n        \"semantic_type\": \"\",\n        \"description\": \"\"\n      }\n    }\n  ]\n}"
            }
          },
          "metadata": {},
          "execution_count": 63
        }
      ],
      "source": [
        "train[train['OriginalTweet'].apply(lambda x: 'amazing' in x) & (train['Sentiment'] == 1)].sample(5)"
      ]
    },
    {
      "cell_type": "code",
      "source": [
        "good_tweet = train[train['UserName'] == 32289\t\t]['OriginalTweet']\n",
        "good_tweet\n",
        "first_document_vector = X[train['UserName'] == 32289\t\t]\n",
        "\n",
        "df_show = pd.DataFrame(first_document_vector.T.todense(), index=feature_names, columns=[\"tfidf\"])\n",
        "\n",
        "print(df_show.sort_values(by=[\"tfidf\"],ascending=False))"
      ],
      "metadata": {
        "colab": {
          "base_uri": "https://localhost:8080/"
        },
        "id": "I1sNpx_cSP83",
        "outputId": "118c386f-d6ec-4d67-9a67-7dbbb7f80907"
      },
      "execution_count": null,
      "outputs": [
        {
          "output_type": "stream",
          "name": "stdout",
          "text": [
            "               tfidf\n",
            "amazing     0.349992\n",
            "workers     0.317538\n",
            "healthcare  0.298841\n",
            "gettin      0.283598\n",
            "binmen      0.264638\n",
            "...              ...\n",
            "f6ung4rwiq  0.000000\n",
            "f6x607ne0h  0.000000\n",
            "f79p5kkdmr  0.000000\n",
            "f7sadm0lzw  0.000000\n",
            "â½          0.000000\n",
            "\n",
            "[52798 rows x 1 columns]\n"
          ]
        }
      ]
    },
    {
      "cell_type": "markdown",
      "metadata": {
        "id": "JTv9ST2_U6NA"
      },
      "source": [
        "**Ответ:** В данном примере одни из самых важных токенов amazing и helthcare, с помощью которых можно хорошо определить окраску твита"
      ]
    },
    {
      "cell_type": "markdown",
      "metadata": {
        "id": "JVEuZm8BHms6"
      },
      "source": [
        "## Задание 4 Обучение первых моделей (1 балл)"
      ]
    },
    {
      "cell_type": "markdown",
      "metadata": {
        "id": "JADkO3sfXdOG"
      },
      "source": [
        "Примените оба векторайзера для получения матриц с признаками текстов.  Выделите целевую переменную."
      ]
    },
    {
      "cell_type": "code",
      "execution_count": 57,
      "metadata": {
        "id": "DguoiXhCX2oN",
        "colab": {
          "base_uri": "https://localhost:8080/"
        },
        "outputId": "ce20af30-28dc-43e8-990f-dc281cc6f946"
      },
      "outputs": [
        {
          "output_type": "stream",
          "name": "stderr",
          "text": [
            "/usr/local/lib/python3.10/dist-packages/sklearn/feature_extraction/text.py:528: UserWarning: The parameter 'token_pattern' will not be used since 'tokenizer' is not None'\n",
            "  warnings.warn(\n"
          ]
        }
      ],
      "source": [
        "from sklearn.feature_extraction.text import TfidfVectorizer\n",
        "\n",
        "cv = CountVectorizer(tokenizer=custom_tokenizer)\n",
        "X_train_counts = cv.fit_transform(train['OriginalTweet'])\n",
        "X_test_counts = cv.transform(test['OriginalTweet'])\n",
        "\n",
        "tfidf = TfidfVectorizer(tokenizer=custom_tokenizer)\n",
        "X_train_tfidf = tfidf.fit_transform(train['OriginalTweet'])\n",
        "X_test_tfidf = tfidf.transform(test['OriginalTweet'])\n",
        "y_train = train['Sentiment']\n",
        "y_test = test['Sentiment']"
      ]
    },
    {
      "cell_type": "markdown",
      "metadata": {
        "id": "_FX1KSOfYSx4"
      },
      "source": [
        "Обучите логистическую регрессию на векторах из обоих векторайзеров. Посчитайте долю правильных ответов на обучающих и тестовых данных. Какой векторайзер показал лучший результат? Что можно сказать о моделях?"
      ]
    },
    {
      "cell_type": "code",
      "execution_count": 58,
      "metadata": {
        "id": "-Tb3eh8UXJ6v",
        "colab": {
          "base_uri": "https://localhost:8080/"
        },
        "outputId": "1ed80fd2-60fc-4111-a8ab-c6050250c700"
      },
      "outputs": [
        {
          "output_type": "stream",
          "name": "stdout",
          "text": [
            "Count Vectorizer - Train Accuracy: 0.9826569841947885, Test Accuracy: 0.8682479569463823\n",
            "Tfidf Vectorizer - Train Accuracy: 0.923579666809056, Test Accuracy: 0.8535977675901933\n"
          ]
        }
      ],
      "source": [
        "from sklearn.linear_model import LogisticRegression\n",
        "from sklearn.metrics import accuracy_score\n",
        "\n",
        "model_counts = LogisticRegression(max_iter=1000)\n",
        "model_counts.fit(X_train_counts, y_train)\n",
        "y_train_pred_counts = model_counts.predict(X_train_counts)\n",
        "y_test_pred_counts = model_counts.predict(X_test_counts)\n",
        "train_accuracy_counts = accuracy_score(y_train, y_train_pred_counts)\n",
        "test_accuracy_counts = accuracy_score(y_test, y_test_pred_counts)\n",
        "\n",
        "model_tfidf = LogisticRegression(max_iter=1000)\n",
        "model_tfidf.fit(X_train_tfidf, y_train)\n",
        "y_train_pred_tfidf = model_tfidf.predict(X_train_tfidf)\n",
        "y_test_pred_tfidf = model_tfidf.predict(X_test_tfidf)\n",
        "train_accuracy_tfidf = accuracy_score(y_train, y_train_pred_tfidf)\n",
        "test_accuracy_tfidf = accuracy_score(y_test, y_test_pred_tfidf)\n",
        "\n",
        "print(f'Count Vectorizer - Train Accuracy: {train_accuracy_counts}, Test Accuracy: {test_accuracy_counts}')\n",
        "print(f'Tfidf Vectorizer - Train Accuracy: {train_accuracy_tfidf}, Test Accuracy: {test_accuracy_tfidf}')\n"
      ]
    },
    {
      "cell_type": "markdown",
      "metadata": {
        "id": "8y_wO7rCmv7K"
      },
      "source": [
        "**Ответ:** Count показал себя лучше и на обучающей,  и на тестовой выборке"
      ]
    },
    {
      "cell_type": "markdown",
      "metadata": {
        "id": "rSOR1i3mjrys"
      },
      "source": [
        "## Задание 5 Стемминг (0.5 балла)"
      ]
    },
    {
      "cell_type": "markdown",
      "metadata": {
        "id": "i6ONBWNPjuq-"
      },
      "source": [
        "Для уменьшения словаря можно использовать стемминг.\n",
        "\n",
        "Модифицируйте написанный токенайзер, добавив в него стемминг с использованием SnowballStemmer. Обучите Count- и Tfidf- векторайзеры. Как изменился размер словаря?"
      ]
    },
    {
      "cell_type": "code",
      "source": [
        "from nltk.stem.snowball import SnowballStemmer\n",
        "stemmer = SnowballStemmer(\"english\")"
      ],
      "metadata": {
        "id": "CCvULuXGUZ9M"
      },
      "execution_count": null,
      "outputs": []
    },
    {
      "cell_type": "code",
      "execution_count": null,
      "metadata": {
        "id": "oVfA2-iMkQBb"
      },
      "outputs": [],
      "source": [
        "def custom_stem_tokenizer(text):\n",
        "  text = text.lower()\n",
        "  tokens = tokinizer.tokenize(text)\n",
        "\n",
        "  tokens = [\n",
        "        stemmer.stem(token) for token in tokens\n",
        "        if token not in stop_words\n",
        "        and token not in punctuation\n",
        "        and (len(token) == 1 and ord(token) < 128 or (len(token) > 1))\n",
        "        and not token.startswith('https://t.co')\n",
        "    ]\n",
        "  return tokens"
      ]
    },
    {
      "cell_type": "code",
      "execution_count": null,
      "metadata": {
        "colab": {
          "base_uri": "https://localhost:8080/"
        },
        "id": "9QmrjYtqnlPd",
        "outputId": "69f147ad-1b7d-4cf5-ccc0-c71e7c239dce"
      },
      "outputs": [
        {
          "output_type": "execute_result",
          "data": {
            "text/plain": [
              "['sampl', 'text', '@sample_text', '#sampletext', 'ad', 'word', 'check', 'stem']"
            ]
          },
          "metadata": {},
          "execution_count": 43
        }
      ],
      "source": [
        "custom_stem_tokenizer('This is sample text!!!! @Sample_text I, \\x92\\x92 https://t.co/sample  #sampletext adding more words to check stemming')"
      ]
    },
    {
      "cell_type": "code",
      "execution_count": null,
      "metadata": {
        "colab": {
          "base_uri": "https://localhost:8080/"
        },
        "id": "zAvUTmaplzOS",
        "outputId": "1634c2ef-82ac-4e4f-ac46-82c4e4063abe"
      },
      "outputs": [
        {
          "output_type": "stream",
          "name": "stderr",
          "text": [
            "/usr/local/lib/python3.10/dist-packages/sklearn/feature_extraction/text.py:528: UserWarning: The parameter 'token_pattern' will not be used since 'tokenizer' is not None'\n",
            "  warnings.warn(\n"
          ]
        },
        {
          "output_type": "stream",
          "name": "stdout",
          "text": [
            "Размер словаря используя CountVectorizer с стеммингом: 36652\n",
            "Размер словаря используя TfidfVectorizer с стеммингом: 36652\n"
          ]
        }
      ],
      "source": [
        "cv_stem = CountVectorizer(tokenizer=custom_stem_tokenizer)\n",
        "X_train_cv_stem = cv_stem.fit_transform(train['OriginalTweet'])\n",
        "print(f\"Размер словаря используя CountVectorizer с стеммингом: {len(cv_stem.vocabulary_)}\")\n",
        "\n",
        "tfidf_stem = TfidfVectorizer(tokenizer=custom_stem_tokenizer)\n",
        "X_train_tfidf_stem = tfidf_stem.fit_transform(train['OriginalTweet'])\n",
        "print(f\"Размер словаря используя TfidfVectorizer с стеммингом: {len(tfidf_stem.vocabulary_)}\")"
      ]
    },
    {
      "cell_type": "markdown",
      "metadata": {
        "id": "Oyzs5TaAoHP6"
      },
      "source": [
        "**Ответ** Размер словаря увеличился на 2000 токенов"
      ]
    },
    {
      "cell_type": "markdown",
      "metadata": {
        "id": "1OkncHI8oRmd"
      },
      "source": [
        "Обучите логистическую регрессию с использованием обоих векторайзеров. Изменилось ли качество? Есть ли смысл применять стемминг?"
      ]
    },
    {
      "cell_type": "code",
      "execution_count": null,
      "metadata": {
        "id": "ykZJPphEoZ5W",
        "colab": {
          "base_uri": "https://localhost:8080/"
        },
        "outputId": "1bb23d49-944e-43b9-821d-63ba88d670fc"
      },
      "outputs": [
        {
          "output_type": "stream",
          "name": "stdout",
          "text": [
            "Count Vectorizer with Stemming - Train Accuracy: 0.9718923536950022, Test Accuracy: 0.8672513454255532\n",
            "Tfidf Vectorizer with Stemming - Train Accuracy: 0.9158906450234943, Test Accuracy: 0.8560892963922663\n",
            "Count Vectorizer - Train Accuracy: 0.9826569841947885, Test Accuracy: 0.8682479569463823\n",
            "Tfidf Vectorizer - Train Accuracy: 0.923579666809056, Test Accuracy: 0.8535977675901933\n"
          ]
        }
      ],
      "source": [
        "X_test_cv_stem = cv_stem.transform(test['OriginalTweet'])\n",
        "X_test_tfidf_stem = tfidf_stem.transform(test['OriginalTweet'])\n",
        "\n",
        "model_cv_stem = LogisticRegression(max_iter=1000)\n",
        "model_cv_stem.fit(X_train_cv_stem, y_train)\n",
        "y_train_pred_cv_stem = model_cv_stem.predict(X_train_cv_stem)\n",
        "y_test_pred_cv_stem = model_cv_stem.predict(X_test_cv_stem)\n",
        "\n",
        "model_tfidf_stem = LogisticRegression(max_iter=1000)\n",
        "model_tfidf_stem.fit(X_train_tfidf_stem, y_train)\n",
        "y_train_pred_tfidf_stem = model_tfidf_stem.predict(X_train_tfidf_stem)\n",
        "y_test_pred_tfidf_stem = model_tfidf_stem.predict(X_test_tfidf_stem)\n",
        "\n",
        "train_accuracy_cv_stem = accuracy_score(y_train, y_train_pred_cv_stem)\n",
        "test_accuracy_cv_stem = accuracy_score(y_test, y_test_pred_cv_stem)\n",
        "train_accuracy_tfidf_stem = accuracy_score(y_train, y_train_pred_tfidf_stem)\n",
        "test_accuracy_tfidf_stem = accuracy_score(y_test, y_test_pred_tfidf_stem)\n",
        "\n",
        "print(f'Count Vectorizer with Stemming - Train Accuracy: {train_accuracy_cv_stem}, Test Accuracy: {test_accuracy_cv_stem}')\n",
        "print(f'Tfidf Vectorizer with Stemming - Train Accuracy: {train_accuracy_tfidf_stem}, Test Accuracy: {test_accuracy_tfidf_stem}')\n",
        "\n",
        "print(f'Count Vectorizer - Train Accuracy: {train_accuracy_counts}, Test Accuracy: {test_accuracy_counts}')\n",
        "print(f'Tfidf Vectorizer - Train Accuracy: {train_accuracy_tfidf}, Test Accuracy: {test_accuracy_tfidf}')\n"
      ]
    },
    {
      "cell_type": "markdown",
      "metadata": {
        "id": "bCRlrODro0h8"
      },
      "source": [
        "**Ответ:** Немного, но на тестовой выборке accuracy стал лучше, а значит применять стемминг имеет смысл, хотя, возможно, и избыточно для нашей ситуации"
      ]
    },
    {
      "cell_type": "markdown",
      "metadata": {
        "id": "hYWGQNEDqLC-"
      },
      "source": [
        "## Задание  6 Работа с частотами (1.5 балла)"
      ]
    },
    {
      "cell_type": "markdown",
      "metadata": {
        "id": "8Hq-tl5mqUSn"
      },
      "source": [
        "Еще один способ уменьшить количество признаков - это использовать параметры min_df и max_df при построении векторайзера  эти параметры помогают ограничить требуемую частоту встречаемости токена в документах.\n",
        "\n",
        "По умолчанию берутся все токены, которые встретились хотя бы один раз.\n",
        "\n"
      ]
    },
    {
      "cell_type": "markdown",
      "metadata": {
        "id": "m1SiD4DE3WZ2"
      },
      "source": [
        "Подберите max_df такой, что размер словаря будет 36651 (на 1 меньше, чем было). Почему параметр получился такой большой/маленький?"
      ]
    },
    {
      "cell_type": "code",
      "source": [
        "texts = train['OriginalTweet']\n",
        "\n",
        "for max_df in np.arange(1.0, 0.0, -0.1):\n",
        "    cv_df = CountVectorizer(tokenizer=custom_stem_tokenizer, max_df=max_df).fit(texts)\n",
        "    if len(cv_df.vocabulary_) <= 36651:\n",
        "        print(f\"The max_df value that results in a vocabulary size of 36651 is: {max_df}\")\n",
        "        print(f\"Vocabulary size: {len(cv_df.vocabulary_)}\")\n",
        "        break\n",
        "\n",
        "print(len(cv_df.vocabulary_))"
      ],
      "metadata": {
        "colab": {
          "base_uri": "https://localhost:8080/",
          "height": 211
        },
        "id": "5fVFYu93VoT0",
        "outputId": "daa9d584-1de7-42da-bcf1-c24864401d27"
      },
      "execution_count": 59,
      "outputs": [
        {
          "output_type": "error",
          "ename": "NameError",
          "evalue": "name 'custom_stem_tokenizer' is not defined",
          "traceback": [
            "\u001b[0;31m---------------------------------------------------------------------------\u001b[0m",
            "\u001b[0;31mNameError\u001b[0m                                 Traceback (most recent call last)",
            "\u001b[0;32m<ipython-input-59-c896dcdaa00f>\u001b[0m in \u001b[0;36m<cell line: 3>\u001b[0;34m()\u001b[0m\n\u001b[1;32m      2\u001b[0m \u001b[0;34m\u001b[0m\u001b[0m\n\u001b[1;32m      3\u001b[0m \u001b[0;32mfor\u001b[0m \u001b[0mmax_df\u001b[0m \u001b[0;32min\u001b[0m \u001b[0mnp\u001b[0m\u001b[0;34m.\u001b[0m\u001b[0marange\u001b[0m\u001b[0;34m(\u001b[0m\u001b[0;36m1.0\u001b[0m\u001b[0;34m,\u001b[0m \u001b[0;36m0.0\u001b[0m\u001b[0;34m,\u001b[0m \u001b[0;34m-\u001b[0m\u001b[0;36m0.1\u001b[0m\u001b[0;34m)\u001b[0m\u001b[0;34m:\u001b[0m\u001b[0;34m\u001b[0m\u001b[0;34m\u001b[0m\u001b[0m\n\u001b[0;32m----> 4\u001b[0;31m     \u001b[0mcv_df\u001b[0m \u001b[0;34m=\u001b[0m \u001b[0mCountVectorizer\u001b[0m\u001b[0;34m(\u001b[0m\u001b[0mtokenizer\u001b[0m\u001b[0;34m=\u001b[0m\u001b[0mcustom_stem_tokenizer\u001b[0m\u001b[0;34m,\u001b[0m \u001b[0mmax_df\u001b[0m\u001b[0;34m=\u001b[0m\u001b[0mmax_df\u001b[0m\u001b[0;34m)\u001b[0m\u001b[0;34m.\u001b[0m\u001b[0mfit\u001b[0m\u001b[0;34m(\u001b[0m\u001b[0mtexts\u001b[0m\u001b[0;34m)\u001b[0m\u001b[0;34m\u001b[0m\u001b[0;34m\u001b[0m\u001b[0m\n\u001b[0m\u001b[1;32m      5\u001b[0m     \u001b[0;32mif\u001b[0m \u001b[0mlen\u001b[0m\u001b[0;34m(\u001b[0m\u001b[0mcv_df\u001b[0m\u001b[0;34m.\u001b[0m\u001b[0mvocabulary_\u001b[0m\u001b[0;34m)\u001b[0m \u001b[0;34m<=\u001b[0m \u001b[0;36m36651\u001b[0m\u001b[0;34m:\u001b[0m\u001b[0;34m\u001b[0m\u001b[0;34m\u001b[0m\u001b[0m\n\u001b[1;32m      6\u001b[0m         \u001b[0mprint\u001b[0m\u001b[0;34m(\u001b[0m\u001b[0;34mf\"The max_df value that results in a vocabulary size of 36651 is: {max_df}\"\u001b[0m\u001b[0;34m)\u001b[0m\u001b[0;34m\u001b[0m\u001b[0;34m\u001b[0m\u001b[0m\n",
            "\u001b[0;31mNameError\u001b[0m: name 'custom_stem_tokenizer' is not defined"
          ]
        }
      ]
    },
    {
      "cell_type": "markdown",
      "metadata": {
        "id": "UdZYoGZR4UsA"
      },
      "source": [
        "**Ответ:** В словарь включаются довольно часто встречающиеся слова, но при этом достаточно способные отразить требуемые качества характера текста"
      ]
    },
    {
      "cell_type": "markdown",
      "metadata": {
        "id": "_gRIUaB1u32f"
      },
      "source": [
        "Подберите min_df (используйте дефолтное значение max_df) в CountVectorizer таким образом, чтобы размер словаря был 3700 токенов (при использовании токенайзера со стеммингом), а качество осталось таким же, как и было. Что можно сказать о результатах?"
      ]
    },
    {
      "cell_type": "code",
      "source": [
        "for min_df in np.arange(11, 15):\n",
        "    cv_df = CountVectorizer(tokenizer=custom_stem_tokenizer, min_df=min_df).fit(texts)\n",
        "    if len(cv_df.vocabulary_) <= 3700:\n",
        "        print(f\"The min_df value that results in a vocabulary size of {3700} is: {min_df}\")\n",
        "        print(f\"Vocabulary size: {len(cv_df.vocabulary_)}\")\n",
        "        break"
      ],
      "metadata": {
        "colab": {
          "base_uri": "https://localhost:8080/"
        },
        "id": "ftvPMMhWaPed",
        "outputId": "1695c0d4-801e-4be4-9096-38e5e9d3824d"
      },
      "execution_count": null,
      "outputs": [
        {
          "output_type": "stream",
          "name": "stdout",
          "text": [
            "The min_df value that results in a vocabulary size of 3700 is: 11\n",
            "Vocabulary size: 3700\n"
          ]
        }
      ]
    },
    {
      "cell_type": "markdown",
      "metadata": {
        "id": "3fGYpUIZx0fk"
      },
      "source": [
        "**Ответ:** Теперь мы будем учитывать только те слова, которые встречаются не менее одиннадцати раз"
      ]
    },
    {
      "cell_type": "markdown",
      "source": [
        "В предыдущих заданиях признаки не скалировались. Отскалируйте данные (при словаре размера 3.7 тысяч, векторизованные CountVectorizer), обучите логистическую регрессию, посмотрите качество и выведите `berplot` содержащий по 10 токенов, с наибольшим по модулю положительными/отрицательными весами. Что можно сказать об этих токенах?"
      ],
      "metadata": {
        "id": "Gx_h_-inKbBl"
      }
    },
    {
      "cell_type": "code",
      "source": [
        "from sklearn.preprocessing import StandardScaler\n",
        "\n",
        "cv = CountVectorizer(max_features=3700)\n",
        "X_train = cv.fit_transform(train['OriginalTweet'])\n",
        "X_test = cv.transform(test['OriginalTweet'])\n",
        "scaler = StandardScaler(with_mean=False)\n",
        "X_train_scaled = scaler.fit_transform(X_train)\n",
        "X_test_scaled = scaler.transform(X_test)\n",
        "\n",
        "y_train = train['Sentiment']\n",
        "y_test = test['Sentiment']\n",
        "\n",
        "model = LogisticRegression(max_iter=1000)\n",
        "model.fit(X_train_scaled, y_train)\n",
        "\n",
        "y_pred = model.predict(X_test_scaled)\n",
        "accuracy = accuracy_score(y_test, y_pred)\n",
        "print(f'Test Accuracy: {accuracy}')\n",
        "\n",
        "feature_names = cv.get_feature_names_out()\n",
        "coefficients = model.coef_.flatten()\n",
        "\n",
        "top_positive_indices = np.argsort(coefficients)[-10:]\n",
        "top_negative_indices = np.argsort(coefficients)[:10]\n",
        "\n",
        "positive_tokens = feature_names[top_positive_indices]\n",
        "negative_tokens = feature_names[top_negative_indices]\n",
        "positive_values = coefficients[top_positive_indices]\n",
        "negative_values = coefficients[top_negative_indices]\n",
        "\n",
        "fig, ax = plt.subplots(figsize=(10, 8))\n",
        "sns.barplot(x=np.concatenate([positive_values, negative_values]),\n",
        "            y=np.concatenate([positive_tokens, negative_tokens]), ax=ax)\n",
        "ax.set_xlabel('Значения токенов')\n",
        "plt.show()\n",
        "\n",
        "print(\"Позитивные токены и их коэффициенты:\")\n",
        "for token, value in zip(positive_tokens, positive_values):\n",
        "    print(f\"{token}: {value:.4f}\")\n",
        "\n",
        "print(\"\\nНегативные токены и их коэффициенты:\")\n",
        "for token, value in zip(negative_tokens, negative_values):\n",
        "    print(f\"{token}: {value:.4f}\")"
      ],
      "metadata": {
        "id": "KBATXJX6LG9q",
        "colab": {
          "base_uri": "https://localhost:8080/",
          "height": 211
        },
        "outputId": "d221e641-9e48-4770-b15d-c1daa2ae7969"
      },
      "execution_count": 20,
      "outputs": [
        {
          "output_type": "error",
          "ename": "NameError",
          "evalue": "name 'CountVectorizer' is not defined",
          "traceback": [
            "\u001b[0;31m---------------------------------------------------------------------------\u001b[0m",
            "\u001b[0;31mNameError\u001b[0m                                 Traceback (most recent call last)",
            "\u001b[0;32m<ipython-input-20-35be8689cdc3>\u001b[0m in \u001b[0;36m<cell line: 3>\u001b[0;34m()\u001b[0m\n\u001b[1;32m      1\u001b[0m \u001b[0;32mfrom\u001b[0m \u001b[0msklearn\u001b[0m\u001b[0;34m.\u001b[0m\u001b[0mpreprocessing\u001b[0m \u001b[0;32mimport\u001b[0m \u001b[0mStandardScaler\u001b[0m\u001b[0;34m\u001b[0m\u001b[0;34m\u001b[0m\u001b[0m\n\u001b[1;32m      2\u001b[0m \u001b[0;34m\u001b[0m\u001b[0m\n\u001b[0;32m----> 3\u001b[0;31m \u001b[0mcv\u001b[0m \u001b[0;34m=\u001b[0m \u001b[0mCountVectorizer\u001b[0m\u001b[0;34m(\u001b[0m\u001b[0mmax_features\u001b[0m\u001b[0;34m=\u001b[0m\u001b[0;36m3700\u001b[0m\u001b[0;34m)\u001b[0m\u001b[0;34m\u001b[0m\u001b[0;34m\u001b[0m\u001b[0m\n\u001b[0m\u001b[1;32m      4\u001b[0m \u001b[0mX_train\u001b[0m \u001b[0;34m=\u001b[0m \u001b[0mcv\u001b[0m\u001b[0;34m.\u001b[0m\u001b[0mfit_transform\u001b[0m\u001b[0;34m(\u001b[0m\u001b[0mtrain\u001b[0m\u001b[0;34m[\u001b[0m\u001b[0;34m'OriginalTweet'\u001b[0m\u001b[0;34m]\u001b[0m\u001b[0;34m)\u001b[0m\u001b[0;34m\u001b[0m\u001b[0;34m\u001b[0m\u001b[0m\n\u001b[1;32m      5\u001b[0m \u001b[0mX_test\u001b[0m \u001b[0;34m=\u001b[0m \u001b[0mcv\u001b[0m\u001b[0;34m.\u001b[0m\u001b[0mtransform\u001b[0m\u001b[0;34m(\u001b[0m\u001b[0mtest\u001b[0m\u001b[0;34m[\u001b[0m\u001b[0;34m'OriginalTweet'\u001b[0m\u001b[0;34m]\u001b[0m\u001b[0;34m)\u001b[0m\u001b[0;34m\u001b[0m\u001b[0;34m\u001b[0m\u001b[0m\n",
            "\u001b[0;31mNameError\u001b[0m: name 'CountVectorizer' is not defined"
          ]
        }
      ]
    },
    {
      "cell_type": "markdown",
      "source": [
        "**Ответ:** Теперь токены отскалированы. Мы можем видеть, как топ самых популярных и непопулярных токенов имеют схожие коэффициенты. Они отражают суть твитов"
      ],
      "metadata": {
        "id": "ThcEfzY1LHET"
      }
    },
    {
      "cell_type": "markdown",
      "metadata": {
        "id": "ktJVOdrIHq7B"
      },
      "source": [
        "## Задание 7 Другие признаки (1.5 балла)"
      ]
    },
    {
      "cell_type": "markdown",
      "metadata": {
        "id": "Yt3jRCZ2H0Og"
      },
      "source": [
        "Мы были сконцентрированы на работе с текстами твиттов и не использовали другие признаки - имена пользователя, дату и местоположение"
      ]
    },
    {
      "cell_type": "markdown",
      "metadata": {
        "id": "52wjewCCo_di"
      },
      "source": [
        "Изучите признаки UserName и ScreenName. полезны ли они? Если полезны, то закодируйте их, добавьте к матрице с отскалированными признаками, обучите логистическую регрессию, замерьте качество."
      ]
    },
    {
      "cell_type": "code",
      "execution_count": 60,
      "metadata": {
        "id": "63thouYZptj6",
        "colab": {
          "base_uri": "https://localhost:8080/"
        },
        "outputId": "a15ca958-0df9-4458-d9a0-115551ff1a28"
      },
      "outputs": [
        {
          "output_type": "stream",
          "name": "stderr",
          "text": [
            "/usr/local/lib/python3.10/dist-packages/sklearn/feature_extraction/text.py:528: UserWarning: The parameter 'token_pattern' will not be used since 'tokenizer' is not None'\n",
            "  warnings.warn(\n"
          ]
        },
        {
          "output_type": "stream",
          "name": "stdout",
          "text": [
            "Accuracy: 0.844229619294399\n"
          ]
        }
      ],
      "source": [
        "from sklearn.pipeline import Pipeline\n",
        "from sklearn.compose import ColumnTransformer\n",
        "from sklearn.preprocessing import OneHotEncoder\n",
        "from sklearn.linear_model import LogisticRegression\n",
        "from sklearn.feature_extraction.text import TfidfVectorizer\n",
        "\n",
        "stop_words = set(nltk.corpus.stopwords.words('english'))\n",
        "\n",
        "tfidf_vectorizer = TfidfVectorizer(tokenizer=custom_tokenizer)\n",
        "\n",
        "categorical_encoder = OneHotEncoder(handle_unknown='ignore')\n",
        "\n",
        "preprocessor = ColumnTransformer(\n",
        "    transformers=[\n",
        "        ('text', tfidf_vectorizer, 'OriginalTweet'),\n",
        "        ('cat', categorical_encoder, ['UserName', 'ScreenName'])\n",
        "    ])\n",
        "\n",
        "clf = Pipeline([\n",
        "    ('prep', preprocessor),\n",
        "    ('classifier', LogisticRegression(max_iter=1000))\n",
        "])\n",
        "\n",
        "X_train = train[['OriginalTweet', 'UserName', 'ScreenName']]\n",
        "X_test = test[['OriginalTweet', 'UserName', 'ScreenName']]\n",
        "y_train = train['Sentiment']\n",
        "y_test = test['Sentiment']\n",
        "\n",
        "clf.fit(X_train, y_train)\n",
        "\n",
        "from sklearn.metrics import accuracy_score\n",
        "y_pred = clf.predict(X_test)\n",
        "print(\"Accuracy:\", accuracy_score(y_test, y_pred))"
      ]
    },
    {
      "cell_type": "markdown",
      "metadata": {
        "id": "r8_qR-gnpT3a"
      },
      "source": [
        "**Ответ:** Доля верных ответов стала лучше на 0.5"
      ]
    },
    {
      "cell_type": "markdown",
      "metadata": {
        "id": "ythEcFSkt7y3"
      },
      "source": [
        "Изучите признак TweetAt в обучающей выборке: преобразуйте его к типу datetime и нарисуйте его гистограмму с разделением по цвету на оспнове целевой переменной. Полезен ли он? Если полезен, то закодируйте его, добавьте к матрице с отскалированными признаками, обучите логистическую регрессию, замерьте качество."
      ]
    },
    {
      "cell_type": "code",
      "source": [
        "from sklearn.linear_model import LogisticRegression\n",
        "from sklearn.metrics import accuracy_score\n",
        "import scipy.sparse as sp\n",
        "\n",
        "train['TweetAt'] = pd.to_datetime(train['TweetAt'], format='%d-%m-%Y')\n",
        "base_date = pd.to_datetime('01-01-2020', format='%d-%m-%Y')\n",
        "train['days_since_base'] = (train['TweetAt'] - base_date).dt.days\n",
        "X_train = sp.hstack((X_train_tfidf, train['days_since_base'].values.reshape(-1, 1)))\n",
        "\n",
        "lr = LogisticRegression(max_iter=1000)\n",
        "lr.fit(X_train, y_train)\n",
        "\n",
        "test['TweetAt'] = pd.to_datetime(test['TweetAt'], format='%d-%m-%Y')\n",
        "test['days_since_base'] = (test['TweetAt'] - base_date).dt.days\n",
        "X_test = sp.hstack((X_test_tfidf, test['days_since_base'].values.reshape(-1, 1)))\n",
        "\n",
        "y_pred = lr.predict(X_test)\n",
        "accuracy = accuracy_score(y_test, y_pred)\n",
        "\n",
        "print(\"Accuracy:\", accuracy)"
      ],
      "metadata": {
        "id": "Lxb_k0JLirNv",
        "colab": {
          "base_uri": "https://localhost:8080/"
        },
        "outputId": "6c254598-f973-451c-85f6-2d51258ac338"
      },
      "execution_count": 61,
      "outputs": [
        {
          "output_type": "stream",
          "name": "stdout",
          "text": [
            "Accuracy: 0.8531991229818616\n"
          ]
        }
      ]
    },
    {
      "cell_type": "markdown",
      "metadata": {
        "id": "4IdLBdpQxM-G"
      },
      "source": [
        "**Ответ:** Доля верных ответов увеличилась ещё на 0.9\n"
      ]
    },
    {
      "cell_type": "markdown",
      "source": [
        "Поработайте с признаком Location в обучающей выборке. Сколько уникальных значений?"
      ],
      "metadata": {
        "id": "r2JtRPhNP6qx"
      }
    },
    {
      "cell_type": "code",
      "source": [
        "train['Location'].nunique()"
      ],
      "metadata": {
        "id": "xYQZQ1FRNpoe",
        "colab": {
          "base_uri": "https://localhost:8080/"
        },
        "outputId": "12a8877d-d5e8-4850-b141-7da493d477dc"
      },
      "execution_count": 62,
      "outputs": [
        {
          "output_type": "execute_result",
          "data": {
            "text/plain": [
              "7949"
            ]
          },
          "metadata": {},
          "execution_count": 62
        }
      ]
    },
    {
      "cell_type": "markdown",
      "source": [
        "Постройте гистограмму топ-10 по популярности местоположений (исключая Unknown)"
      ],
      "metadata": {
        "id": "6k4JwpRTQISa"
      }
    },
    {
      "cell_type": "code",
      "source": [
        "location_counts = train.loc[train['Location'] != 'Unknown', 'Location'].value_counts()\n",
        "\n",
        "top_10_locations = location_counts.head(10)\n",
        "\n",
        "plt.figure(figsize=(12, 6))\n",
        "top_10_locations.plot(kind='bar', color = 'green')\n",
        "plt.xlabel('Местоположение')\n",
        "plt.ylabel('Количество')\n",
        "plt.xticks(rotation=45)\n",
        "plt.show()"
      ],
      "metadata": {
        "id": "J91YkhegJ0mz",
        "colab": {
          "base_uri": "https://localhost:8080/",
          "height": 620
        },
        "outputId": "85d19f0b-c96b-4a08-d798-a50c3c994441"
      },
      "execution_count": 63,
      "outputs": [
        {
          "output_type": "display_data",
          "data": {
            "text/plain": [
              "<Figure size 1200x600 with 1 Axes>"
            ],
            "image/png": "[encoded data removed]"
          },
          "metadata": {}
        }
      ]
    },
    {
      "cell_type": "markdown",
      "source": [
        "Видно, что многие местоположения включают в себя более точное название места, чем другие (Например, у некоторых стоит London, UK; а у некоторых просто UK или United Kingdom).\n",
        "\n",
        "Создайте новый признак WiderLocation, который содержит самое широкое местоположение (например, из London, UK должно получиться UK). Сколько уникальных категорий теперь? Постройте аналогичную гистограмму."
      ],
      "metadata": {
        "id": "ZOsv3lODTfYB"
      }
    },
    {
      "cell_type": "code",
      "source": [
        "def combine_locations(location):\n",
        "    if location in ['United Kingdom', 'UK']:\n",
        "        return 'UK'\n",
        "    elif location in ['United States']:\n",
        "      return 'USA'\n",
        "    else:\n",
        "        return location\n",
        "\n",
        "train['WiderLocation'] = train['Location'].str.split(',').apply(lambda x: x[-1].strip() if isinstance(x, list) else x)\n",
        "train['WiderLocation'] = train['WiderLocation'].apply(combine_locations)\n",
        "\n",
        "test['WiderLocation'] = test['Location'].str.split(',').apply(lambda x: x[-1].strip() if isinstance(x, list) else x)\n",
        "test['WiderLocation'] = test['WiderLocation'].apply(combine_locations)\n",
        "\n",
        "filtered_df = train[train['WiderLocation'] != 'Unknown']\n",
        "\n",
        "num_unique_categories_combined = filtered_df['WiderLocation'].nunique()\n",
        "\n",
        "print(f'Количество уникальных категорий в новом признаке WiderLocation с объединением: {num_unique_categories_combined}')\n",
        "\n",
        "plt.figure(figsize=(12, 6))\n",
        "filtered_df['WiderLocation'].value_counts().head(10).plot(kind='bar', color='salmon')\n",
        "plt.xlabel('Широкое местоположение')\n",
        "plt.ylabel('Количество')\n",
        "plt.xticks(rotation=45)\n",
        "plt.show()"
      ],
      "metadata": {
        "id": "mSkow6acOMyD",
        "colab": {
          "base_uri": "https://localhost:8080/",
          "height": 598
        },
        "outputId": "0b3650cd-73f5-4b89-91fa-c0f8698ec904"
      },
      "execution_count": 64,
      "outputs": [
        {
          "output_type": "stream",
          "name": "stdout",
          "text": [
            "Количество уникальных категорий в новом признаке WiderLocation с объединением: 4628\n"
          ]
        },
        {
          "output_type": "display_data",
          "data": {
            "text/plain": [
              "<Figure size 1200x600 with 1 Axes>"
            ],
            "image/png": "[encoded data removed]"
          },
          "metadata": {}
        }
      ]
    },
    {
      "cell_type": "markdown",
      "source": [
        "Закодируйте признак WiderLocation с помощью OHE таким образом, чтобы создались только столбцы для местоположений, которые встречаются более одного раза. Сколько таких значений?\n"
      ],
      "metadata": {
        "id": "cgyWrD2eVfff"
      }
    },
    {
      "cell_type": "code",
      "source": [
        "location_counts = train['WiderLocation'].value_counts()\n",
        "\n",
        "locations_to_encode = location_counts[location_counts > 1].index\n",
        "\n",
        "print(\"Количество значений, которые будут закодированы:\", len(locations_to_encode))"
      ],
      "metadata": {
        "id": "SeJBfBWgPvg_",
        "colab": {
          "base_uri": "https://localhost:8080/"
        },
        "outputId": "a63ab8d0-4565-43bc-ef5b-6d31a0bd8cfd"
      },
      "execution_count": 65,
      "outputs": [
        {
          "output_type": "stream",
          "name": "stdout",
          "text": [
            "Количество значений, которые будут закодированы: 986\n"
          ]
        }
      ]
    },
    {
      "cell_type": "markdown",
      "source": [
        "Добавьте этот признак к матрице отскалированных текстовых признаков, обучите логистическую регрессию, замерьте качество. Как оно изменилось? Оказался ли признак полезным?\n",
        "\n",
        "\n",
        "*Подсказка:* используйте параметр `categories` в энкодере."
      ],
      "metadata": {
        "id": "ZyMX5kZuimPK"
      }
    },
    {
      "cell_type": "code",
      "source": [
        "encoder = OneHotEncoder(handle_unknown='ignore')\n",
        "WiderLocation_encoded_train = encoder.fit_transform(train[['WiderLocation']])\n",
        "WiderLocation_encoded_test = encoder.transform(test[['WiderLocation']])\n",
        "\n",
        "X_train = sp.hstack((X_train_tfidf, WiderLocation_encoded_train))\n",
        "X_test = sp.hstack((X_test_tfidf, WiderLocation_encoded_test))\n",
        "\n",
        "lr = LogisticRegression(max_iter=1000)\n",
        "lr.fit(X_train, y_train)\n",
        "y_pred = lr.predict(X_test)\n",
        "\n",
        "accuracy = accuracy_score(y_test, y_pred)\n",
        "print(\"Accuracy:\", accuracy)"
      ],
      "metadata": {
        "id": "EO1jNPeeim7A",
        "colab": {
          "base_uri": "https://localhost:8080/"
        },
        "outputId": "030f6f79-626c-4b7d-9f14-71c737e0f169"
      },
      "execution_count": 66,
      "outputs": [
        {
          "output_type": "stream",
          "name": "stdout",
          "text": [
            "Accuracy: 0.8445286027506478\n"
          ]
        }
      ]
    },
    {
      "cell_type": "markdown",
      "source": [
        "**Ответ:** Доля верных ответов уменьшилась. В нашем случае признак не так полезен"
      ],
      "metadata": {
        "id": "7dHsGlDRYUQt"
      }
    },
    {
      "cell_type": "markdown",
      "source": [
        "## Задание 8 Хорошее качество (Бонус 1 балл)"
      ],
      "metadata": {
        "id": "IWn6h4W9eD3S"
      }
    },
    {
      "cell_type": "markdown",
      "source": [
        "Добейтесь accuracy=0.9 на тестовой выборке (можно сменить токенайзер, векторайзер, модель и т.д.)"
      ],
      "metadata": {
        "id": "-HDI0SU6eLgi"
      }
    },
    {
      "cell_type": "code",
      "source": [
        "from sklearn.metrics import classification_report\n",
        "from sklearn.preprocessing import MaxAbsScaler"
      ],
      "metadata": {
        "id": "CEImqdypG1y6"
      },
      "execution_count": 68,
      "outputs": []
    },
    {
      "cell_type": "code",
      "source": [
        "x_train, x_test, y_train, y_test = train_test_split(df.OriginalTweet, df.Sentiment, test_size = 0.2, random_state=45)"
      ],
      "metadata": {
        "id": "dNtqt2SLLJ9r"
      },
      "execution_count": 100,
      "outputs": []
    },
    {
      "cell_type": "code",
      "source": [
        "vec = TfidfVectorizer(ngram_range=(1, 1))\n",
        "vec_train = vec.fit_transform(x_train)\n",
        "vec_test = vec.transform(x_test)\n",
        "\n",
        "\n",
        "scaler = MaxAbsScaler()\n",
        "vec_train = scaler.fit_transform(vec_train)\n",
        "vec_test = scaler.transform(vec_test)"
      ],
      "metadata": {
        "id": "-mVu6W6lLsHl"
      },
      "execution_count": 101,
      "outputs": []
    },
    {
      "cell_type": "code",
      "source": [
        "clf = LogisticRegression(max_iter=300, random_state=5)\n",
        "clf.fit(vec_train, y_train)\n",
        "pred_tfidf = clf.predict(vec_test)\n",
        "print(classification_report(y_test, pred_tfidf))"
      ],
      "metadata": {
        "colab": {
          "base_uri": "https://localhost:8080/"
        },
        "id": "jJhAQbLXLui5",
        "outputId": "c91df063-d7a1-4167-cb70-9280bea5b17f"
      },
      "execution_count": 102,
      "outputs": [
        {
          "output_type": "stream",
          "name": "stdout",
          "text": [
            "              precision    recall  f1-score   support\n",
            "\n",
            "           0       0.87      0.86      0.87      3108\n",
            "           1       0.88      0.89      0.89      3581\n",
            "\n",
            "    accuracy                           0.88      6689\n",
            "   macro avg       0.88      0.88      0.88      6689\n",
            "weighted avg       0.88      0.88      0.88      6689\n",
            "\n"
          ]
        }
      ]
    }
  ],
  "metadata": {
    "colab": {
      "provenance": []
    },
    "kernelspec": {
      "display_name": "Python 3",
      "name": "python3"
    },
    "language_info": {
      "name": "python"
    }
  },
  "nbformat": 4,
  "nbformat_minor": 0
}